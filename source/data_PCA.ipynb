{
 "cells": [
  {
   "cell_type": "markdown",
   "metadata": {},
   "source": [
    "# Non linear feature extraction of the stratosphere"
   ]
  },
  {
   "cell_type": "markdown",
   "metadata": {},
   "source": [
    "- https://github.com/geopandas/geopandas/issues/1166"
   ]
  },
  {
   "cell_type": "markdown",
   "metadata": {},
   "source": [
    "## Data exploration:"
   ]
  },
  {
   "cell_type": "code",
   "execution_count": 1,
   "metadata": {},
   "outputs": [
    {
     "data": {
      "application/javascript": [
       "if (!(\"Notification\" in window)) {\n",
       "    alert(\"This browser does not support desktop notifications, so the %%notify magic will not work.\");\n",
       "} else if (Notification.permission !== 'granted' && Notification.permission !== 'denied') {\n",
       "    Notification.requestPermission(function (permission) {\n",
       "        if(!('permission' in Notification)) {\n",
       "            Notification.permission = permission;\n",
       "        }\n",
       "    })\n",
       "}\n"
      ],
      "text/plain": [
       "<IPython.core.display.Javascript object>"
      ]
     },
     "metadata": {},
     "output_type": "display_data"
    }
   ],
   "source": [
    "#imports:\n",
    "from scipy.spatial import distance_matrix\n",
    "import pandas as pd\n",
    "import numpy as np\n",
    "from sklearn.decomposition import PCA\n",
    "import matplotlib.pyplot as plt\n",
    "#from mpl_toolkits.basemap import Basemap\n",
    "#import cartopy\n",
    "import networkx as nx\n",
    "from tqdm import tqdm\n",
    "from time import sleep\n",
    "%load_ext jupyternotify\n",
    "import warnings\n",
    "warnings.filterwarnings('ignore')\n",
    "\n",
    "from sklearn.neighbors import NearestNeighbors\n",
    "\n",
    "import scipy.sparse.linalg as linalg\n",
    "import scipy.signal as signal\n",
    "\n",
    "import seaborn as sns\n",
    "import matplotlib.dates as mdates\n",
    "from datetime import datetime\n"
   ]
  },
  {
   "cell_type": "markdown",
   "metadata": {},
   "source": [
    "### Load data: "
   ]
  },
  {
   "cell_type": "code",
   "execution_count": 2,
   "metadata": {},
   "outputs": [],
   "source": [
    "data_path = '../../../data/vandermeer/input_data/'\n",
    "anomalies_cf = pd.read_csv(data_path+'anomalies_coefficients.csv', sep=',')\n",
    "raw_cf = pd.read_csv(data_path+'raw_data_coefficients.csv', sep=',')\n",
    "basis_cf = pd.read_csv(data_path+'basis_functions.csv', sep=',')"
   ]
  },
  {
   "cell_type": "code",
   "execution_count": 3,
   "metadata": {},
   "outputs": [
    {
     "data": {
      "text/html": [
       "<div>\n",
       "<style scoped>\n",
       "    .dataframe tbody tr th:only-of-type {\n",
       "        vertical-align: middle;\n",
       "    }\n",
       "\n",
       "    .dataframe tbody tr th {\n",
       "        vertical-align: top;\n",
       "    }\n",
       "\n",
       "    .dataframe thead th {\n",
       "        text-align: right;\n",
       "    }\n",
       "</style>\n",
       "<table border=\"1\" class=\"dataframe\">\n",
       "  <thead>\n",
       "    <tr style=\"text-align: right;\">\n",
       "      <th></th>\n",
       "      <th>Unnamed: 0</th>\n",
       "      <th>Lon</th>\n",
       "      <th>Lat</th>\n",
       "      <th>X1</th>\n",
       "      <th>X2</th>\n",
       "      <th>X3</th>\n",
       "      <th>X4</th>\n",
       "      <th>X5</th>\n",
       "      <th>X6</th>\n",
       "      <th>X7</th>\n",
       "      <th>...</th>\n",
       "      <th>X992</th>\n",
       "      <th>X993</th>\n",
       "      <th>X994</th>\n",
       "      <th>X995</th>\n",
       "      <th>X996</th>\n",
       "      <th>X997</th>\n",
       "      <th>X998</th>\n",
       "      <th>X999</th>\n",
       "      <th>X1000</th>\n",
       "      <th>X1001</th>\n",
       "    </tr>\n",
       "  </thead>\n",
       "  <tbody>\n",
       "    <tr>\n",
       "      <th>0</th>\n",
       "      <td>1</td>\n",
       "      <td>0.00</td>\n",
       "      <td>89.25</td>\n",
       "      <td>1</td>\n",
       "      <td>0.010141</td>\n",
       "      <td>0.040319</td>\n",
       "      <td>-2.368483</td>\n",
       "      <td>0.001031</td>\n",
       "      <td>0.000077</td>\n",
       "      <td>-0.102981</td>\n",
       "      <td>...</td>\n",
       "      <td>3.631613e-13</td>\n",
       "      <td>3.464664e-14</td>\n",
       "      <td>-3.341165e-13</td>\n",
       "      <td>2.849425e-13</td>\n",
       "      <td>1.557925e-13</td>\n",
       "      <td>5.982969e-13</td>\n",
       "      <td>6.331329e-13</td>\n",
       "      <td>2.241741e-13</td>\n",
       "      <td>-2.846185e-13</td>\n",
       "      <td>-5.775125e-13</td>\n",
       "    </tr>\n",
       "    <tr>\n",
       "      <th>1</th>\n",
       "      <td>2</td>\n",
       "      <td>0.75</td>\n",
       "      <td>89.25</td>\n",
       "      <td>1</td>\n",
       "      <td>0.009612</td>\n",
       "      <td>0.040449</td>\n",
       "      <td>-2.368483</td>\n",
       "      <td>0.001029</td>\n",
       "      <td>0.000104</td>\n",
       "      <td>-0.101771</td>\n",
       "      <td>...</td>\n",
       "      <td>4.067050e-13</td>\n",
       "      <td>-4.938318e-16</td>\n",
       "      <td>-3.507720e-13</td>\n",
       "      <td>2.985671e-13</td>\n",
       "      <td>1.810982e-13</td>\n",
       "      <td>5.570756e-13</td>\n",
       "      <td>6.526212e-13</td>\n",
       "      <td>1.829743e-13</td>\n",
       "      <td>-3.911114e-13</td>\n",
       "      <td>-5.002182e-13</td>\n",
       "    </tr>\n",
       "    <tr>\n",
       "      <th>2</th>\n",
       "      <td>3</td>\n",
       "      <td>1.50</td>\n",
       "      <td>89.25</td>\n",
       "      <td>1</td>\n",
       "      <td>0.009082</td>\n",
       "      <td>0.040571</td>\n",
       "      <td>-2.368483</td>\n",
       "      <td>0.001026</td>\n",
       "      <td>0.000131</td>\n",
       "      <td>-0.100545</td>\n",
       "      <td>...</td>\n",
       "      <td>3.982352e-13</td>\n",
       "      <td>-3.830620e-14</td>\n",
       "      <td>-4.210252e-13</td>\n",
       "      <td>2.607462e-13</td>\n",
       "      <td>1.647441e-13</td>\n",
       "      <td>5.954190e-13</td>\n",
       "      <td>6.264252e-13</td>\n",
       "      <td>2.505362e-13</td>\n",
       "      <td>-4.883408e-13</td>\n",
       "      <td>-3.861563e-13</td>\n",
       "    </tr>\n",
       "  </tbody>\n",
       "</table>\n",
       "<p>3 rows × 1004 columns</p>\n",
       "</div>"
      ],
      "text/plain": [
       "   Unnamed: 0   Lon    Lat  X1        X2        X3        X4        X5  \\\n",
       "0           1  0.00  89.25   1  0.010141  0.040319 -2.368483  0.001031   \n",
       "1           2  0.75  89.25   1  0.009612  0.040449 -2.368483  0.001029   \n",
       "2           3  1.50  89.25   1  0.009082  0.040571 -2.368483  0.001026   \n",
       "\n",
       "         X6        X7  ...          X992          X993          X994  \\\n",
       "0  0.000077 -0.102981  ...  3.631613e-13  3.464664e-14 -3.341165e-13   \n",
       "1  0.000104 -0.101771  ...  4.067050e-13 -4.938318e-16 -3.507720e-13   \n",
       "2  0.000131 -0.100545  ...  3.982352e-13 -3.830620e-14 -4.210252e-13   \n",
       "\n",
       "           X995          X996          X997          X998          X999  \\\n",
       "0  2.849425e-13  1.557925e-13  5.982969e-13  6.331329e-13  2.241741e-13   \n",
       "1  2.985671e-13  1.810982e-13  5.570756e-13  6.526212e-13  1.829743e-13   \n",
       "2  2.607462e-13  1.647441e-13  5.954190e-13  6.264252e-13  2.505362e-13   \n",
       "\n",
       "          X1000         X1001  \n",
       "0 -2.846185e-13 -5.775125e-13  \n",
       "1 -3.911114e-13 -5.002182e-13  \n",
       "2 -4.883408e-13 -3.861563e-13  \n",
       "\n",
       "[3 rows x 1004 columns]"
      ]
     },
     "execution_count": 3,
     "metadata": {},
     "output_type": "execute_result"
    }
   ],
   "source": [
    "basis_cf.head(3)"
   ]
  },
  {
   "cell_type": "code",
   "execution_count": 4,
   "metadata": {},
   "outputs": [
    {
     "data": {
      "text/html": [
       "<div>\n",
       "<style scoped>\n",
       "    .dataframe tbody tr th:only-of-type {\n",
       "        vertical-align: middle;\n",
       "    }\n",
       "\n",
       "    .dataframe tbody tr th {\n",
       "        vertical-align: top;\n",
       "    }\n",
       "\n",
       "    .dataframe thead th {\n",
       "        text-align: right;\n",
       "    }\n",
       "</style>\n",
       "<table border=\"1\" class=\"dataframe\">\n",
       "  <thead>\n",
       "    <tr style=\"text-align: right;\">\n",
       "      <th></th>\n",
       "      <th>Unnamed: 0</th>\n",
       "      <th>Date</th>\n",
       "      <th>X1</th>\n",
       "      <th>X2</th>\n",
       "      <th>X3</th>\n",
       "      <th>X4</th>\n",
       "      <th>X5</th>\n",
       "      <th>X6</th>\n",
       "      <th>X7</th>\n",
       "      <th>X8</th>\n",
       "      <th>...</th>\n",
       "      <th>X992</th>\n",
       "      <th>X993</th>\n",
       "      <th>X994</th>\n",
       "      <th>X995</th>\n",
       "      <th>X996</th>\n",
       "      <th>X997</th>\n",
       "      <th>X998</th>\n",
       "      <th>X999</th>\n",
       "      <th>X1000</th>\n",
       "      <th>X1001</th>\n",
       "    </tr>\n",
       "  </thead>\n",
       "  <tbody>\n",
       "    <tr>\n",
       "      <th>0</th>\n",
       "      <td>1</td>\n",
       "      <td>1979-01-01 00:00:00</td>\n",
       "      <td>0.000443</td>\n",
       "      <td>0.000059</td>\n",
       "      <td>0.000018</td>\n",
       "      <td>-0.000257</td>\n",
       "      <td>0.000027</td>\n",
       "      <td>0.000018</td>\n",
       "      <td>-0.000047</td>\n",
       "      <td>-0.000025</td>\n",
       "      <td>...</td>\n",
       "      <td>1.326600e-06</td>\n",
       "      <td>-2.590231e-07</td>\n",
       "      <td>1.111734e-06</td>\n",
       "      <td>-7.988864e-07</td>\n",
       "      <td>4.408012e-08</td>\n",
       "      <td>-1.217306e-08</td>\n",
       "      <td>9.282409e-07</td>\n",
       "      <td>-5.001676e-07</td>\n",
       "      <td>-4.883183e-08</td>\n",
       "      <td>1.128947e-06</td>\n",
       "    </tr>\n",
       "    <tr>\n",
       "      <th>1</th>\n",
       "      <td>2</td>\n",
       "      <td>1979-01-01 06:00:00</td>\n",
       "      <td>0.000436</td>\n",
       "      <td>0.000057</td>\n",
       "      <td>0.000017</td>\n",
       "      <td>-0.000250</td>\n",
       "      <td>0.000028</td>\n",
       "      <td>0.000011</td>\n",
       "      <td>-0.000043</td>\n",
       "      <td>-0.000030</td>\n",
       "      <td>...</td>\n",
       "      <td>3.176703e-07</td>\n",
       "      <td>-2.685431e-07</td>\n",
       "      <td>5.769547e-08</td>\n",
       "      <td>6.127967e-07</td>\n",
       "      <td>4.295968e-08</td>\n",
       "      <td>-7.938383e-08</td>\n",
       "      <td>1.063049e-06</td>\n",
       "      <td>-5.364016e-07</td>\n",
       "      <td>7.481122e-07</td>\n",
       "      <td>2.706997e-07</td>\n",
       "    </tr>\n",
       "    <tr>\n",
       "      <th>2</th>\n",
       "      <td>3</td>\n",
       "      <td>1979-01-01 12:00:00</td>\n",
       "      <td>0.000434</td>\n",
       "      <td>0.000058</td>\n",
       "      <td>0.000010</td>\n",
       "      <td>-0.000249</td>\n",
       "      <td>0.000034</td>\n",
       "      <td>0.000009</td>\n",
       "      <td>-0.000043</td>\n",
       "      <td>-0.000029</td>\n",
       "      <td>...</td>\n",
       "      <td>1.135065e-06</td>\n",
       "      <td>-1.217742e-06</td>\n",
       "      <td>1.196999e-07</td>\n",
       "      <td>-2.562468e-07</td>\n",
       "      <td>-6.708924e-08</td>\n",
       "      <td>7.292826e-08</td>\n",
       "      <td>1.581833e-07</td>\n",
       "      <td>-4.967490e-07</td>\n",
       "      <td>-8.876771e-08</td>\n",
       "      <td>-9.832148e-07</td>\n",
       "    </tr>\n",
       "  </tbody>\n",
       "</table>\n",
       "<p>3 rows × 1003 columns</p>\n",
       "</div>"
      ],
      "text/plain": [
       "   Unnamed: 0                 Date        X1        X2        X3        X4  \\\n",
       "0           1  1979-01-01 00:00:00  0.000443  0.000059  0.000018 -0.000257   \n",
       "1           2  1979-01-01 06:00:00  0.000436  0.000057  0.000017 -0.000250   \n",
       "2           3  1979-01-01 12:00:00  0.000434  0.000058  0.000010 -0.000249   \n",
       "\n",
       "         X5        X6        X7        X8  ...          X992          X993  \\\n",
       "0  0.000027  0.000018 -0.000047 -0.000025  ...  1.326600e-06 -2.590231e-07   \n",
       "1  0.000028  0.000011 -0.000043 -0.000030  ...  3.176703e-07 -2.685431e-07   \n",
       "2  0.000034  0.000009 -0.000043 -0.000029  ...  1.135065e-06 -1.217742e-06   \n",
       "\n",
       "           X994          X995          X996          X997          X998  \\\n",
       "0  1.111734e-06 -7.988864e-07  4.408012e-08 -1.217306e-08  9.282409e-07   \n",
       "1  5.769547e-08  6.127967e-07  4.295968e-08 -7.938383e-08  1.063049e-06   \n",
       "2  1.196999e-07 -2.562468e-07 -6.708924e-08  7.292826e-08  1.581833e-07   \n",
       "\n",
       "           X999         X1000         X1001  \n",
       "0 -5.001676e-07 -4.883183e-08  1.128947e-06  \n",
       "1 -5.364016e-07  7.481122e-07  2.706997e-07  \n",
       "2 -4.967490e-07 -8.876771e-08 -9.832148e-07  \n",
       "\n",
       "[3 rows x 1003 columns]"
      ]
     },
     "execution_count": 4,
     "metadata": {},
     "output_type": "execute_result"
    }
   ],
   "source": [
    "raw_cf.head(3)"
   ]
  },
  {
   "cell_type": "code",
   "execution_count": 5,
   "metadata": {},
   "outputs": [
    {
     "data": {
      "text/html": [
       "<div>\n",
       "<style scoped>\n",
       "    .dataframe tbody tr th:only-of-type {\n",
       "        vertical-align: middle;\n",
       "    }\n",
       "\n",
       "    .dataframe tbody tr th {\n",
       "        vertical-align: top;\n",
       "    }\n",
       "\n",
       "    .dataframe thead th {\n",
       "        text-align: right;\n",
       "    }\n",
       "</style>\n",
       "<table border=\"1\" class=\"dataframe\">\n",
       "  <thead>\n",
       "    <tr style=\"text-align: right;\">\n",
       "      <th></th>\n",
       "      <th>Unnamed: 0</th>\n",
       "      <th>Date</th>\n",
       "      <th>X1</th>\n",
       "      <th>X2</th>\n",
       "      <th>X3</th>\n",
       "      <th>X4</th>\n",
       "      <th>X5</th>\n",
       "      <th>X6</th>\n",
       "      <th>X7</th>\n",
       "      <th>X8</th>\n",
       "      <th>...</th>\n",
       "      <th>X992</th>\n",
       "      <th>X993</th>\n",
       "      <th>X994</th>\n",
       "      <th>X995</th>\n",
       "      <th>X996</th>\n",
       "      <th>X997</th>\n",
       "      <th>X998</th>\n",
       "      <th>X999</th>\n",
       "      <th>X1000</th>\n",
       "      <th>X1001</th>\n",
       "    </tr>\n",
       "  </thead>\n",
       "  <tbody>\n",
       "    <tr>\n",
       "      <th>0</th>\n",
       "      <td>1</td>\n",
       "      <td>1979-01-01 00:00:00</td>\n",
       "      <td>0.087772</td>\n",
       "      <td>0.306971</td>\n",
       "      <td>-0.358278</td>\n",
       "      <td>-0.713848</td>\n",
       "      <td>0.431876</td>\n",
       "      <td>0.233288</td>\n",
       "      <td>0.079006</td>\n",
       "      <td>0.182841</td>\n",
       "      <td>...</td>\n",
       "      <td>0.010085</td>\n",
       "      <td>0.000343</td>\n",
       "      <td>0.013018</td>\n",
       "      <td>-0.008956</td>\n",
       "      <td>0.001028</td>\n",
       "      <td>-0.000141</td>\n",
       "      <td>0.009586</td>\n",
       "      <td>-0.004209</td>\n",
       "      <td>0.000906</td>\n",
       "      <td>0.011727</td>\n",
       "    </tr>\n",
       "    <tr>\n",
       "      <th>1</th>\n",
       "      <td>2</td>\n",
       "      <td>1979-01-01 06:00:00</td>\n",
       "      <td>0.045790</td>\n",
       "      <td>0.298297</td>\n",
       "      <td>-0.373760</td>\n",
       "      <td>-0.684706</td>\n",
       "      <td>0.456666</td>\n",
       "      <td>0.171122</td>\n",
       "      <td>0.098944</td>\n",
       "      <td>0.153985</td>\n",
       "      <td>...</td>\n",
       "      <td>0.004224</td>\n",
       "      <td>-0.002052</td>\n",
       "      <td>0.002568</td>\n",
       "      <td>0.003769</td>\n",
       "      <td>0.000829</td>\n",
       "      <td>-0.001214</td>\n",
       "      <td>0.010168</td>\n",
       "      <td>-0.005202</td>\n",
       "      <td>0.007966</td>\n",
       "      <td>0.002296</td>\n",
       "    </tr>\n",
       "    <tr>\n",
       "      <th>2</th>\n",
       "      <td>3</td>\n",
       "      <td>1979-01-01 12:00:00</td>\n",
       "      <td>0.044001</td>\n",
       "      <td>0.297177</td>\n",
       "      <td>-0.449389</td>\n",
       "      <td>-0.679847</td>\n",
       "      <td>0.513206</td>\n",
       "      <td>0.161827</td>\n",
       "      <td>0.082390</td>\n",
       "      <td>0.152011</td>\n",
       "      <td>...</td>\n",
       "      <td>0.009204</td>\n",
       "      <td>-0.010951</td>\n",
       "      <td>0.000831</td>\n",
       "      <td>-0.004194</td>\n",
       "      <td>-0.000835</td>\n",
       "      <td>0.001100</td>\n",
       "      <td>-0.000148</td>\n",
       "      <td>-0.005812</td>\n",
       "      <td>0.000562</td>\n",
       "      <td>-0.005325</td>\n",
       "    </tr>\n",
       "  </tbody>\n",
       "</table>\n",
       "<p>3 rows × 1003 columns</p>\n",
       "</div>"
      ],
      "text/plain": [
       "   Unnamed: 0                 Date        X1        X2        X3        X4  \\\n",
       "0           1  1979-01-01 00:00:00  0.087772  0.306971 -0.358278 -0.713848   \n",
       "1           2  1979-01-01 06:00:00  0.045790  0.298297 -0.373760 -0.684706   \n",
       "2           3  1979-01-01 12:00:00  0.044001  0.297177 -0.449389 -0.679847   \n",
       "\n",
       "         X5        X6        X7        X8  ...      X992      X993      X994  \\\n",
       "0  0.431876  0.233288  0.079006  0.182841  ...  0.010085  0.000343  0.013018   \n",
       "1  0.456666  0.171122  0.098944  0.153985  ...  0.004224 -0.002052  0.002568   \n",
       "2  0.513206  0.161827  0.082390  0.152011  ...  0.009204 -0.010951  0.000831   \n",
       "\n",
       "       X995      X996      X997      X998      X999     X1000     X1001  \n",
       "0 -0.008956  0.001028 -0.000141  0.009586 -0.004209  0.000906  0.011727  \n",
       "1  0.003769  0.000829 -0.001214  0.010168 -0.005202  0.007966  0.002296  \n",
       "2 -0.004194 -0.000835  0.001100 -0.000148 -0.005812  0.000562 -0.005325  \n",
       "\n",
       "[3 rows x 1003 columns]"
      ]
     },
     "execution_count": 5,
     "metadata": {},
     "output_type": "execute_result"
    }
   ],
   "source": [
    "anomalies_cf.head(3)"
   ]
  },
  {
   "cell_type": "code",
   "execution_count": null,
   "metadata": {},
   "outputs": [],
   "source": [
    "fig, axs = plt.subplots(1,2, figsize = (10, 5))\n",
    "sns.histplot(raw_cf['X1'], ax = axs[0], bins = 15)\n",
    "axs[0].set_xlabel('PV raw')\n",
    "sns.histplot(anomalies_cf['X1'], ax = axs[1], bins = 15)\n",
    "axs[1].set_xlabel('PV anomalies')"
   ]
  },
  {
   "cell_type": "code",
   "execution_count": null,
   "metadata": {},
   "outputs": [],
   "source": [
    "plt.hist(raw_cf['X1'])"
   ]
  },
  {
   "cell_type": "code",
   "execution_count": null,
   "metadata": {},
   "outputs": [],
   "source": [
    "# Sample `February 6th 1981 at 6AM':\n",
    "date = '1981-02-06 06:00:00'\n",
    "df = anomalies_cf\n",
    "sample_df = df[df.Date == date]"
   ]
  },
  {
   "cell_type": "code",
   "execution_count": null,
   "metadata": {},
   "outputs": [],
   "source": [
    "# Look at small sample of data:\n",
    "#sample_anomaly = anomalies_cf.sample(1)\n",
    "sample_array = np.array(sample_df.drop(['Unnamed: 0', 'Date'], axis=1))\n",
    "basis_array = np.array(basis_cf.drop(['Unnamed: 0', 'Lon', 'Lat'], axis=1))\n",
    "\n",
    "print(\n",
    "    f'Coordinates shape:{sample_array.shape} and Basis array shape:{basis_array.shape}'\n",
    ")"
   ]
  },
  {
   "cell_type": "code",
   "execution_count": null,
   "metadata": {},
   "outputs": [],
   "source": [
    "def basis_transf(coordinates, basis):\n",
    "    \"\"\"\n",
    "    @input: \n",
    "    - basis np.array of shape (1001, 38400)\n",
    "    - coordinates np.array of shape (1001, 1)\n",
    "    \"\"\"\n",
    "    x = np.zeros(38400)\n",
    "    if coordinates.shape == (1, 1001):\n",
    "        coordinates = coordinates.T\n",
    "    if basis.shape == (38400, 1001):\n",
    "        basis = basis.T\n",
    "    for i in range(len(coordinates)):\n",
    "        x += coordinates[i] * basis[i]\n",
    "    return x"
   ]
  },
  {
   "cell_type": "code",
   "execution_count": null,
   "metadata": {},
   "outputs": [],
   "source": [
    "# Apply basis transformation to sample point:\n",
    "X_sample = pd.DataFrame(\n",
    "    data={\n",
    "        'longitude': basis_cf['Lon'],\n",
    "        'latitude': basis_cf['Lat'],\n",
    "        'PV_values': basis_transf(sample_array, basis_array)\n",
    "    })"
   ]
  },
  {
   "cell_type": "code",
   "execution_count": null,
   "metadata": {
    "run_control": {
     "marked": true
    }
   },
   "outputs": [],
   "source": [
    "def plot_sample(X_sample, option = 'color'):\n",
    "    Z = X_sample.pivot(index='latitude',\n",
    "                       columns='longitude',\n",
    "                       values='PV_values')\n",
    "\n",
    "    fig = plt.figure(figsize=(8, 8))\n",
    "\n",
    "    m = Basemap(projection='npstere', boundinglat=28, lon_0=0, resolution='l')\n",
    "    m.drawcoastlines()\n",
    "    m.drawparallels(np.arange(-80., 81., 20.),\n",
    "                    labels=[False, False, False, False])\n",
    "    m.drawmeridians(np.arange(-180., 181., 20.),\n",
    "                    labels=[True, False, True, True])\n",
    "    \n",
    "    latitude = Z.index.values\n",
    "    longitude = Z.columns.values\n",
    "    \n",
    "    lons, lats = np.meshgrid(longitude, latitude)\n",
    "    if option == 'color':\n",
    "        m.pcolor(lons, lats, Z.values, latlon=True, cmap='RdYlBu')\n",
    "    if option == 'contour':\n",
    "        m.contourf(lons, lats, Z.values, latlon=True, cmap='RdYlBu')\n",
    "    m.colorbar()"
   ]
  },
  {
   "cell_type": "code",
   "execution_count": null,
   "metadata": {},
   "outputs": [],
   "source": [
    "plot_sample(X_sample, 'color')"
   ]
  },
  {
   "cell_type": "code",
   "execution_count": null,
   "metadata": {
    "run_control": {
     "marked": true
    }
   },
   "outputs": [],
   "source": [
    "df_test = pd.DataFrame(\n",
    "    data={\n",
    "        'longitude': basis_cf['Lon'],\n",
    "        'latitude': basis_cf['Lat'],\n",
    "        'PV_values': basis_cf['X2']\n",
    "    })\n",
    "\n",
    "Z_ = df_test.pivot(index='latitude', columns='longitude', values='PV_values')\n",
    "\n",
    "fig = plt.figure(figsize=(10, 15))\n",
    "\n",
    "#m = Basemap(projection='npstere', boundinglat=28, lon_0=0, resolution='l')\n",
    "m = Basemap(llcrnrlon=-180.,llcrnrlat=29.,urcrnrlon=180,urcrnrlat=90., projection='cyl')\n",
    "m.drawcoastlines()\n",
    "\n",
    "latitude = Z_.index.values\n",
    "longitude = Z_.columns.values\n",
    "\n",
    "lons, lats = np.meshgrid(longitude, latitude)\n",
    "m.contourf(lons, lats, Z_.values, latlon=True, cmap='RdYlBu')"
   ]
  },
  {
   "cell_type": "markdown",
   "metadata": {},
   "source": [
    "## PCA: "
   ]
  },
  {
   "cell_type": "code",
   "execution_count": null,
   "metadata": {},
   "outputs": [],
   "source": [
    "# Sample `February 6th 1981 at 6AM':\n",
    "date = '1981-02-06 06:00:00'\n",
    "df = anomalies_cf\n",
    "sample_df = df[df.Date == date]\n",
    "X = np.array(df.drop(['Unnamed: 0', 'Date'], axis=1))"
   ]
  },
  {
   "cell_type": "code",
   "execution_count": null,
   "metadata": {},
   "outputs": [],
   "source": [
    "X.shape"
   ]
  },
  {
   "cell_type": "code",
   "execution_count": null,
   "metadata": {},
   "outputs": [],
   "source": [
    "pca = PCA(n_components=10)\n",
    "pca.fit(X)\n",
    "singular_values_pca = pca.singular_values_\n",
    "explained_variance_ratio__pca = pca.explained_variance_ratio_\n",
    "components_pca = pca.components_\n",
    "\n",
    "print(\"Singular values: {sv} \\nExplained variance: {ev}\".format(\n",
    "    sv=singular_values_pca, ev=explained_variance_ratio__pca))"
   ]
  },
  {
   "cell_type": "code",
   "execution_count": null,
   "metadata": {},
   "outputs": [],
   "source": [
    "X.shape, components_pca.shape, basis_transf(components_pca[0], basis_array).shape"
   ]
  },
  {
   "cell_type": "code",
   "execution_count": null,
   "metadata": {},
   "outputs": [],
   "source": [
    "NUM_COMP = 5\n",
    "fig, axs = plt.subplots(1, NUM_COMP, figsize=(20, 20))\n",
    "\n",
    "for i in range(NUM_COMP):\n",
    "    X_sample = pd.DataFrame(\n",
    "        data={\n",
    "            'longitude': basis_cf['Lon'],\n",
    "            'latitude': basis_cf['Lat'],\n",
    "            'PV_values': basis_transf(components_pca[i], basis_array)\n",
    "        })\n",
    "\n",
    "    Z = X_sample.pivot(index='latitude',\n",
    "                       columns='longitude',\n",
    "                       values='PV_values')\n",
    "    \n",
    "    lons, lats = np.meshgrid(Z.columns.values, Z.index.values)\n",
    "    \n",
    "    m = Basemap(projection='npstere',\n",
    "                boundinglat=29,\n",
    "                lon_0=0,\n",
    "                resolution='l',\n",
    "                ax=axs[i])\n",
    "    m.drawcoastlines(ax=axs[i])\n",
    "    m.drawparallels(np.arange(-80., 81., 20.),\n",
    "                    labels=[False, False, False, False],\n",
    "                    ax=axs[i])\n",
    "    m.drawmeridians(np.arange(-180., 181., 20.),\n",
    "                    labels=[True, False, False, True],\n",
    "                    ax=axs[i])\n",
    "    \n",
    "    m.pcolor(lons, lats, Z.values, latlon=True, cmap='RdYlBu', ax=axs[i])\n",
    "    \n",
    "    axs[i].set_title('Component: {}, variance: {:.2f}'.format(\n",
    "        i + 1, explained_variance_ratio_[i] * 100))\n",
    "\n",
    "plt.savefig('../data/figures/PCA.png')"
   ]
  },
  {
   "cell_type": "markdown",
   "metadata": {},
   "source": [
    "## Laplacian decomposition:"
   ]
  },
  {
   "cell_type": "code",
   "execution_count": 6,
   "metadata": {},
   "outputs": [],
   "source": [
    "DATA = 'raw'\n",
    "\n",
    "if DATA == 'raw':\n",
    "    df = raw_cf\n",
    "    PATH = '../../../data/vandermeer/pickles/raw/'\n",
    "else: \n",
    "    df = anomalies_cf\n",
    "    PATH = '../../../data/vandermeer/pickles/anomalies/'\n",
    "\n",
    "df = df.drop(['Unnamed: 0','Date'], axis = 1)"
   ]
  },
  {
   "cell_type": "code",
   "execution_count": 7,
   "metadata": {},
   "outputs": [
    {
     "data": {
      "text/html": [
       "<div>\n",
       "<style scoped>\n",
       "    .dataframe tbody tr th:only-of-type {\n",
       "        vertical-align: middle;\n",
       "    }\n",
       "\n",
       "    .dataframe tbody tr th {\n",
       "        vertical-align: top;\n",
       "    }\n",
       "\n",
       "    .dataframe thead th {\n",
       "        text-align: right;\n",
       "    }\n",
       "</style>\n",
       "<table border=\"1\" class=\"dataframe\">\n",
       "  <thead>\n",
       "    <tr style=\"text-align: right;\">\n",
       "      <th></th>\n",
       "      <th>X1</th>\n",
       "      <th>X2</th>\n",
       "      <th>X3</th>\n",
       "      <th>X4</th>\n",
       "      <th>X5</th>\n",
       "      <th>X6</th>\n",
       "      <th>X7</th>\n",
       "      <th>X8</th>\n",
       "      <th>X9</th>\n",
       "      <th>X10</th>\n",
       "      <th>...</th>\n",
       "      <th>X992</th>\n",
       "      <th>X993</th>\n",
       "      <th>X994</th>\n",
       "      <th>X995</th>\n",
       "      <th>X996</th>\n",
       "      <th>X997</th>\n",
       "      <th>X998</th>\n",
       "      <th>X999</th>\n",
       "      <th>X1000</th>\n",
       "      <th>X1001</th>\n",
       "    </tr>\n",
       "  </thead>\n",
       "  <tbody>\n",
       "    <tr>\n",
       "      <th>0</th>\n",
       "      <td>0.000443</td>\n",
       "      <td>0.000059</td>\n",
       "      <td>0.000018</td>\n",
       "      <td>-0.000257</td>\n",
       "      <td>0.000027</td>\n",
       "      <td>0.000018</td>\n",
       "      <td>-0.000047</td>\n",
       "      <td>-0.000025</td>\n",
       "      <td>0.000042</td>\n",
       "      <td>0.000041</td>\n",
       "      <td>...</td>\n",
       "      <td>1.326600e-06</td>\n",
       "      <td>-2.590231e-07</td>\n",
       "      <td>1.111734e-06</td>\n",
       "      <td>-7.988864e-07</td>\n",
       "      <td>4.408012e-08</td>\n",
       "      <td>-1.217306e-08</td>\n",
       "      <td>9.282409e-07</td>\n",
       "      <td>-5.001676e-07</td>\n",
       "      <td>-4.883183e-08</td>\n",
       "      <td>1.128947e-06</td>\n",
       "    </tr>\n",
       "    <tr>\n",
       "      <th>1</th>\n",
       "      <td>0.000436</td>\n",
       "      <td>0.000057</td>\n",
       "      <td>0.000017</td>\n",
       "      <td>-0.000250</td>\n",
       "      <td>0.000028</td>\n",
       "      <td>0.000011</td>\n",
       "      <td>-0.000043</td>\n",
       "      <td>-0.000030</td>\n",
       "      <td>0.000038</td>\n",
       "      <td>0.000038</td>\n",
       "      <td>...</td>\n",
       "      <td>3.176703e-07</td>\n",
       "      <td>-2.685431e-07</td>\n",
       "      <td>5.769547e-08</td>\n",
       "      <td>6.127967e-07</td>\n",
       "      <td>4.295968e-08</td>\n",
       "      <td>-7.938383e-08</td>\n",
       "      <td>1.063049e-06</td>\n",
       "      <td>-5.364016e-07</td>\n",
       "      <td>7.481122e-07</td>\n",
       "      <td>2.706997e-07</td>\n",
       "    </tr>\n",
       "    <tr>\n",
       "      <th>2</th>\n",
       "      <td>0.000434</td>\n",
       "      <td>0.000058</td>\n",
       "      <td>0.000010</td>\n",
       "      <td>-0.000249</td>\n",
       "      <td>0.000034</td>\n",
       "      <td>0.000009</td>\n",
       "      <td>-0.000043</td>\n",
       "      <td>-0.000029</td>\n",
       "      <td>0.000032</td>\n",
       "      <td>0.000035</td>\n",
       "      <td>...</td>\n",
       "      <td>1.135065e-06</td>\n",
       "      <td>-1.217742e-06</td>\n",
       "      <td>1.196999e-07</td>\n",
       "      <td>-2.562468e-07</td>\n",
       "      <td>-6.708924e-08</td>\n",
       "      <td>7.292826e-08</td>\n",
       "      <td>1.581833e-07</td>\n",
       "      <td>-4.967490e-07</td>\n",
       "      <td>-8.876771e-08</td>\n",
       "      <td>-9.832148e-07</td>\n",
       "    </tr>\n",
       "  </tbody>\n",
       "</table>\n",
       "<p>3 rows × 1001 columns</p>\n",
       "</div>"
      ],
      "text/plain": [
       "         X1        X2        X3        X4        X5        X6        X7  \\\n",
       "0  0.000443  0.000059  0.000018 -0.000257  0.000027  0.000018 -0.000047   \n",
       "1  0.000436  0.000057  0.000017 -0.000250  0.000028  0.000011 -0.000043   \n",
       "2  0.000434  0.000058  0.000010 -0.000249  0.000034  0.000009 -0.000043   \n",
       "\n",
       "         X8        X9       X10  ...          X992          X993  \\\n",
       "0 -0.000025  0.000042  0.000041  ...  1.326600e-06 -2.590231e-07   \n",
       "1 -0.000030  0.000038  0.000038  ...  3.176703e-07 -2.685431e-07   \n",
       "2 -0.000029  0.000032  0.000035  ...  1.135065e-06 -1.217742e-06   \n",
       "\n",
       "           X994          X995          X996          X997          X998  \\\n",
       "0  1.111734e-06 -7.988864e-07  4.408012e-08 -1.217306e-08  9.282409e-07   \n",
       "1  5.769547e-08  6.127967e-07  4.295968e-08 -7.938383e-08  1.063049e-06   \n",
       "2  1.196999e-07 -2.562468e-07 -6.708924e-08  7.292826e-08  1.581833e-07   \n",
       "\n",
       "           X999         X1000         X1001  \n",
       "0 -5.001676e-07 -4.883183e-08  1.128947e-06  \n",
       "1 -5.364016e-07  7.481122e-07  2.706997e-07  \n",
       "2 -4.967490e-07 -8.876771e-08 -9.832148e-07  \n",
       "\n",
       "[3 rows x 1001 columns]"
      ]
     },
     "execution_count": 7,
     "metadata": {},
     "output_type": "execute_result"
    }
   ],
   "source": [
    "df.head(3)"
   ]
  },
  {
   "cell_type": "markdown",
   "metadata": {},
   "source": [
    "### Adjacency graph:\n",
    "\n",
    "N neighbours %10 "
   ]
  },
  {
   "cell_type": "markdown",
   "metadata": {},
   "source": [
    "#### Distance matrix:"
   ]
  },
  {
   "cell_type": "markdown",
   "metadata": {},
   "source": [
    "Distance matrix with p-norm with p = 2. But not symetric ? "
   ]
  },
  {
   "cell_type": "code",
   "execution_count": null,
   "metadata": {},
   "outputs": [],
   "source": [
    "%%notify\n",
    "\"\"\"\n",
    "from scipy.spatial import distance_matrix\n",
    "distance_df = pd.DataFrame(distance_matrix(df.values, df.values), index=df.index, columns=df.index)\n",
    "distance_df.to_pickle(PATH+'distance_matrix.pkl')\"\"\""
   ]
  },
  {
   "cell_type": "code",
   "execution_count": 8,
   "metadata": {},
   "outputs": [
    {
     "data": {
      "text/plain": [
       "array([[0.00000000e+00, 4.94838369e-05, 6.31062937e-05, ...,\n",
       "        3.08955859e-04, 3.09416953e-04, 3.12070736e-04],\n",
       "       [4.94838369e-05, 0.00000000e+00, 4.79706087e-05, ...,\n",
       "        3.01423668e-04, 3.01485121e-04, 3.03987727e-04],\n",
       "       [6.31062937e-05, 4.79706087e-05, 0.00000000e+00, ...,\n",
       "        3.00480053e-04, 3.00142279e-04, 3.02578389e-04],\n",
       "       ...,\n",
       "       [3.08955859e-04, 3.01423668e-04, 3.00480053e-04, ...,\n",
       "        0.00000000e+00, 4.19059539e-05, 6.54091762e-05],\n",
       "       [3.09416953e-04, 3.01485121e-04, 3.00142279e-04, ...,\n",
       "        4.19059539e-05, 0.00000000e+00, 3.97417566e-05],\n",
       "       [3.12070736e-04, 3.03987727e-04, 3.02578389e-04, ...,\n",
       "        6.54091762e-05, 3.97417566e-05, 0.00000000e+00]])"
      ]
     },
     "execution_count": 8,
     "metadata": {},
     "output_type": "execute_result"
    }
   ],
   "source": [
    "distance_matrix = pd.read_pickle(PATH+'distance_matrix.pkl').values\n",
    "distance_matrix"
   ]
  },
  {
   "cell_type": "code",
   "execution_count": 53,
   "metadata": {},
   "outputs": [
    {
     "data": {
      "text/html": [
       "<div>\n",
       "<style scoped>\n",
       "    .dataframe tbody tr th:only-of-type {\n",
       "        vertical-align: middle;\n",
       "    }\n",
       "\n",
       "    .dataframe tbody tr th {\n",
       "        vertical-align: top;\n",
       "    }\n",
       "\n",
       "    .dataframe thead th {\n",
       "        text-align: right;\n",
       "    }\n",
       "</style>\n",
       "<table border=\"1\" class=\"dataframe\">\n",
       "  <thead>\n",
       "    <tr style=\"text-align: right;\">\n",
       "      <th></th>\n",
       "      <th>0</th>\n",
       "      <th>1</th>\n",
       "      <th>2</th>\n",
       "      <th>3</th>\n",
       "      <th>4</th>\n",
       "      <th>5</th>\n",
       "      <th>6</th>\n",
       "      <th>7</th>\n",
       "      <th>8</th>\n",
       "      <th>9</th>\n",
       "      <th>...</th>\n",
       "      <th>33950</th>\n",
       "      <th>33951</th>\n",
       "      <th>33952</th>\n",
       "      <th>33953</th>\n",
       "      <th>33954</th>\n",
       "      <th>33955</th>\n",
       "      <th>33956</th>\n",
       "      <th>33957</th>\n",
       "      <th>33958</th>\n",
       "      <th>33959</th>\n",
       "    </tr>\n",
       "  </thead>\n",
       "  <tbody>\n",
       "    <tr>\n",
       "      <th>0</th>\n",
       "      <td>0.000000</td>\n",
       "      <td>0.000049</td>\n",
       "      <td>0.000063</td>\n",
       "      <td>0.000071</td>\n",
       "      <td>0.000073</td>\n",
       "      <td>0.000083</td>\n",
       "      <td>0.000092</td>\n",
       "      <td>0.000101</td>\n",
       "      <td>0.000109</td>\n",
       "      <td>0.000119</td>\n",
       "      <td>...</td>\n",
       "      <td>0.000292</td>\n",
       "      <td>0.000298</td>\n",
       "      <td>0.000302</td>\n",
       "      <td>0.000306</td>\n",
       "      <td>0.000306</td>\n",
       "      <td>0.000309</td>\n",
       "      <td>0.000308</td>\n",
       "      <td>0.000309</td>\n",
       "      <td>0.000309</td>\n",
       "      <td>0.000312</td>\n",
       "    </tr>\n",
       "    <tr>\n",
       "      <th>1</th>\n",
       "      <td>0.000049</td>\n",
       "      <td>0.000000</td>\n",
       "      <td>0.000048</td>\n",
       "      <td>0.000062</td>\n",
       "      <td>0.000066</td>\n",
       "      <td>0.000072</td>\n",
       "      <td>0.000081</td>\n",
       "      <td>0.000092</td>\n",
       "      <td>0.000100</td>\n",
       "      <td>0.000109</td>\n",
       "      <td>...</td>\n",
       "      <td>0.000285</td>\n",
       "      <td>0.000291</td>\n",
       "      <td>0.000295</td>\n",
       "      <td>0.000299</td>\n",
       "      <td>0.000299</td>\n",
       "      <td>0.000302</td>\n",
       "      <td>0.000300</td>\n",
       "      <td>0.000301</td>\n",
       "      <td>0.000301</td>\n",
       "      <td>0.000304</td>\n",
       "    </tr>\n",
       "    <tr>\n",
       "      <th>2</th>\n",
       "      <td>0.000063</td>\n",
       "      <td>0.000048</td>\n",
       "      <td>0.000000</td>\n",
       "      <td>0.000047</td>\n",
       "      <td>0.000055</td>\n",
       "      <td>0.000063</td>\n",
       "      <td>0.000068</td>\n",
       "      <td>0.000078</td>\n",
       "      <td>0.000088</td>\n",
       "      <td>0.000098</td>\n",
       "      <td>...</td>\n",
       "      <td>0.000285</td>\n",
       "      <td>0.000292</td>\n",
       "      <td>0.000295</td>\n",
       "      <td>0.000299</td>\n",
       "      <td>0.000299</td>\n",
       "      <td>0.000301</td>\n",
       "      <td>0.000300</td>\n",
       "      <td>0.000300</td>\n",
       "      <td>0.000300</td>\n",
       "      <td>0.000303</td>\n",
       "    </tr>\n",
       "    <tr>\n",
       "      <th>3</th>\n",
       "      <td>0.000071</td>\n",
       "      <td>0.000062</td>\n",
       "      <td>0.000047</td>\n",
       "      <td>0.000000</td>\n",
       "      <td>0.000043</td>\n",
       "      <td>0.000055</td>\n",
       "      <td>0.000060</td>\n",
       "      <td>0.000071</td>\n",
       "      <td>0.000080</td>\n",
       "      <td>0.000091</td>\n",
       "      <td>...</td>\n",
       "      <td>0.000288</td>\n",
       "      <td>0.000295</td>\n",
       "      <td>0.000298</td>\n",
       "      <td>0.000302</td>\n",
       "      <td>0.000301</td>\n",
       "      <td>0.000304</td>\n",
       "      <td>0.000302</td>\n",
       "      <td>0.000303</td>\n",
       "      <td>0.000302</td>\n",
       "      <td>0.000305</td>\n",
       "    </tr>\n",
       "    <tr>\n",
       "      <th>4</th>\n",
       "      <td>0.000073</td>\n",
       "      <td>0.000066</td>\n",
       "      <td>0.000055</td>\n",
       "      <td>0.000043</td>\n",
       "      <td>0.000000</td>\n",
       "      <td>0.000042</td>\n",
       "      <td>0.000054</td>\n",
       "      <td>0.000067</td>\n",
       "      <td>0.000075</td>\n",
       "      <td>0.000086</td>\n",
       "      <td>...</td>\n",
       "      <td>0.000288</td>\n",
       "      <td>0.000295</td>\n",
       "      <td>0.000298</td>\n",
       "      <td>0.000302</td>\n",
       "      <td>0.000301</td>\n",
       "      <td>0.000303</td>\n",
       "      <td>0.000301</td>\n",
       "      <td>0.000302</td>\n",
       "      <td>0.000301</td>\n",
       "      <td>0.000303</td>\n",
       "    </tr>\n",
       "  </tbody>\n",
       "</table>\n",
       "<p>5 rows × 33960 columns</p>\n",
       "</div>"
      ],
      "text/plain": [
       "      0         1         2         3         4         5         6      \\\n",
       "0  0.000000  0.000049  0.000063  0.000071  0.000073  0.000083  0.000092   \n",
       "1  0.000049  0.000000  0.000048  0.000062  0.000066  0.000072  0.000081   \n",
       "2  0.000063  0.000048  0.000000  0.000047  0.000055  0.000063  0.000068   \n",
       "3  0.000071  0.000062  0.000047  0.000000  0.000043  0.000055  0.000060   \n",
       "4  0.000073  0.000066  0.000055  0.000043  0.000000  0.000042  0.000054   \n",
       "\n",
       "      7         8         9      ...     33950     33951     33952     33953  \\\n",
       "0  0.000101  0.000109  0.000119  ...  0.000292  0.000298  0.000302  0.000306   \n",
       "1  0.000092  0.000100  0.000109  ...  0.000285  0.000291  0.000295  0.000299   \n",
       "2  0.000078  0.000088  0.000098  ...  0.000285  0.000292  0.000295  0.000299   \n",
       "3  0.000071  0.000080  0.000091  ...  0.000288  0.000295  0.000298  0.000302   \n",
       "4  0.000067  0.000075  0.000086  ...  0.000288  0.000295  0.000298  0.000302   \n",
       "\n",
       "      33954     33955     33956     33957     33958     33959  \n",
       "0  0.000306  0.000309  0.000308  0.000309  0.000309  0.000312  \n",
       "1  0.000299  0.000302  0.000300  0.000301  0.000301  0.000304  \n",
       "2  0.000299  0.000301  0.000300  0.000300  0.000300  0.000303  \n",
       "3  0.000301  0.000304  0.000302  0.000303  0.000302  0.000305  \n",
       "4  0.000301  0.000303  0.000301  0.000302  0.000301  0.000303  \n",
       "\n",
       "[5 rows x 33960 columns]"
      ]
     },
     "execution_count": 53,
     "metadata": {},
     "output_type": "execute_result"
    }
   ],
   "source": [
    "pd.DataFrame(distance_matrix).head()"
   ]
  },
  {
   "cell_type": "code",
   "execution_count": null,
   "metadata": {},
   "outputs": [],
   "source": [
    "# Check if is symmetric:\n",
    "np.all(distance_matrix.T == distance_matrix)"
   ]
  },
  {
   "cell_type": "code",
   "execution_count": null,
   "metadata": {},
   "outputs": [],
   "source": [
    "distance_matrix.shape"
   ]
  },
  {
   "cell_type": "markdown",
   "metadata": {},
   "source": [
    "#### Neighbour matrix:"
   ]
  },
  {
   "cell_type": "markdown",
   "metadata": {},
   "source": [
    "One direction: -> "
   ]
  },
  {
   "cell_type": "code",
   "execution_count": null,
   "metadata": {},
   "outputs": [],
   "source": [
    "\"\"\"%%notify\n",
    "K = int(len(df.values)*0.1)\n",
    "N = len(distance_matrix)\n",
    "weight_matrix = np.zeros((N,N))\n",
    "\n",
    "for i in range(N):\n",
    "    indices = np.argsort(distance_matrix[i])[:K]\n",
    "    for j in indices: \n",
    "        if i!=j and weight_matrix[i,j] == 0: \n",
    "            weight_matrix[i,j] += 1\"\"\"\n",
    "\"\"\"weight_matrix = weight_matrix.T\n",
    "for i in range(N):\n",
    "    indices = np.argsort(distance_matrix.T[i])[:K]\n",
    "    for j in indices: \n",
    "        if i!=j and weight_matrix[i,j] == 0:\n",
    "            weight_matrix[i,j] += 1\n",
    "weight_df = pd.DataFrame(weight_matrix)\n",
    "weight_df.to_pickle(PATH+'weight_matrix.pkl')\"\"\""
   ]
  },
  {
   "cell_type": "code",
   "execution_count": 9,
   "metadata": {},
   "outputs": [
    {
     "data": {
      "text/plain": [
       "array([[0., 1., 1., ..., 0., 0., 0.],\n",
       "       [1., 0., 1., ..., 0., 0., 0.],\n",
       "       [1., 1., 0., ..., 0., 0., 0.],\n",
       "       ...,\n",
       "       [0., 0., 0., ..., 0., 1., 1.],\n",
       "       [0., 0., 0., ..., 1., 0., 1.],\n",
       "       [0., 0., 0., ..., 1., 1., 0.]])"
      ]
     },
     "execution_count": 9,
     "metadata": {},
     "output_type": "execute_result"
    }
   ],
   "source": [
    "weight_m = pd.read_pickle(PATH+'simple_kernel/weight_matrix.pkl').values\n",
    "weight_m"
   ]
  },
  {
   "cell_type": "code",
   "execution_count": 55,
   "metadata": {},
   "outputs": [
    {
     "data": {
      "text/html": [
       "<div>\n",
       "<style scoped>\n",
       "    .dataframe tbody tr th:only-of-type {\n",
       "        vertical-align: middle;\n",
       "    }\n",
       "\n",
       "    .dataframe tbody tr th {\n",
       "        vertical-align: top;\n",
       "    }\n",
       "\n",
       "    .dataframe thead th {\n",
       "        text-align: right;\n",
       "    }\n",
       "</style>\n",
       "<table border=\"1\" class=\"dataframe\">\n",
       "  <thead>\n",
       "    <tr style=\"text-align: right;\">\n",
       "      <th></th>\n",
       "      <th>0</th>\n",
       "      <th>1</th>\n",
       "      <th>2</th>\n",
       "      <th>3</th>\n",
       "      <th>4</th>\n",
       "      <th>5</th>\n",
       "      <th>6</th>\n",
       "      <th>7</th>\n",
       "      <th>8</th>\n",
       "      <th>9</th>\n",
       "      <th>...</th>\n",
       "      <th>33950</th>\n",
       "      <th>33951</th>\n",
       "      <th>33952</th>\n",
       "      <th>33953</th>\n",
       "      <th>33954</th>\n",
       "      <th>33955</th>\n",
       "      <th>33956</th>\n",
       "      <th>33957</th>\n",
       "      <th>33958</th>\n",
       "      <th>33959</th>\n",
       "    </tr>\n",
       "  </thead>\n",
       "  <tbody>\n",
       "    <tr>\n",
       "      <th>0</th>\n",
       "      <td>0.0</td>\n",
       "      <td>1.0</td>\n",
       "      <td>1.0</td>\n",
       "      <td>1.0</td>\n",
       "      <td>1.0</td>\n",
       "      <td>1.0</td>\n",
       "      <td>1.0</td>\n",
       "      <td>1.0</td>\n",
       "      <td>1.0</td>\n",
       "      <td>1.0</td>\n",
       "      <td>...</td>\n",
       "      <td>0.0</td>\n",
       "      <td>0.0</td>\n",
       "      <td>0.0</td>\n",
       "      <td>0.0</td>\n",
       "      <td>0.0</td>\n",
       "      <td>0.0</td>\n",
       "      <td>0.0</td>\n",
       "      <td>0.0</td>\n",
       "      <td>0.0</td>\n",
       "      <td>0.0</td>\n",
       "    </tr>\n",
       "    <tr>\n",
       "      <th>1</th>\n",
       "      <td>1.0</td>\n",
       "      <td>0.0</td>\n",
       "      <td>1.0</td>\n",
       "      <td>1.0</td>\n",
       "      <td>1.0</td>\n",
       "      <td>1.0</td>\n",
       "      <td>1.0</td>\n",
       "      <td>1.0</td>\n",
       "      <td>1.0</td>\n",
       "      <td>1.0</td>\n",
       "      <td>...</td>\n",
       "      <td>0.0</td>\n",
       "      <td>0.0</td>\n",
       "      <td>0.0</td>\n",
       "      <td>0.0</td>\n",
       "      <td>0.0</td>\n",
       "      <td>0.0</td>\n",
       "      <td>0.0</td>\n",
       "      <td>0.0</td>\n",
       "      <td>0.0</td>\n",
       "      <td>0.0</td>\n",
       "    </tr>\n",
       "    <tr>\n",
       "      <th>2</th>\n",
       "      <td>1.0</td>\n",
       "      <td>1.0</td>\n",
       "      <td>0.0</td>\n",
       "      <td>1.0</td>\n",
       "      <td>1.0</td>\n",
       "      <td>1.0</td>\n",
       "      <td>1.0</td>\n",
       "      <td>1.0</td>\n",
       "      <td>1.0</td>\n",
       "      <td>1.0</td>\n",
       "      <td>...</td>\n",
       "      <td>0.0</td>\n",
       "      <td>0.0</td>\n",
       "      <td>0.0</td>\n",
       "      <td>0.0</td>\n",
       "      <td>0.0</td>\n",
       "      <td>0.0</td>\n",
       "      <td>0.0</td>\n",
       "      <td>0.0</td>\n",
       "      <td>0.0</td>\n",
       "      <td>0.0</td>\n",
       "    </tr>\n",
       "    <tr>\n",
       "      <th>3</th>\n",
       "      <td>1.0</td>\n",
       "      <td>1.0</td>\n",
       "      <td>1.0</td>\n",
       "      <td>0.0</td>\n",
       "      <td>1.0</td>\n",
       "      <td>1.0</td>\n",
       "      <td>1.0</td>\n",
       "      <td>1.0</td>\n",
       "      <td>1.0</td>\n",
       "      <td>1.0</td>\n",
       "      <td>...</td>\n",
       "      <td>0.0</td>\n",
       "      <td>0.0</td>\n",
       "      <td>0.0</td>\n",
       "      <td>0.0</td>\n",
       "      <td>0.0</td>\n",
       "      <td>0.0</td>\n",
       "      <td>0.0</td>\n",
       "      <td>0.0</td>\n",
       "      <td>0.0</td>\n",
       "      <td>0.0</td>\n",
       "    </tr>\n",
       "    <tr>\n",
       "      <th>4</th>\n",
       "      <td>1.0</td>\n",
       "      <td>1.0</td>\n",
       "      <td>1.0</td>\n",
       "      <td>1.0</td>\n",
       "      <td>0.0</td>\n",
       "      <td>1.0</td>\n",
       "      <td>1.0</td>\n",
       "      <td>1.0</td>\n",
       "      <td>1.0</td>\n",
       "      <td>1.0</td>\n",
       "      <td>...</td>\n",
       "      <td>0.0</td>\n",
       "      <td>0.0</td>\n",
       "      <td>0.0</td>\n",
       "      <td>0.0</td>\n",
       "      <td>0.0</td>\n",
       "      <td>0.0</td>\n",
       "      <td>0.0</td>\n",
       "      <td>0.0</td>\n",
       "      <td>0.0</td>\n",
       "      <td>0.0</td>\n",
       "    </tr>\n",
       "  </tbody>\n",
       "</table>\n",
       "<p>5 rows × 33960 columns</p>\n",
       "</div>"
      ],
      "text/plain": [
       "   0      1      2      3      4      5      6      7      8      9      ...  \\\n",
       "0    0.0    1.0    1.0    1.0    1.0    1.0    1.0    1.0    1.0    1.0  ...   \n",
       "1    1.0    0.0    1.0    1.0    1.0    1.0    1.0    1.0    1.0    1.0  ...   \n",
       "2    1.0    1.0    0.0    1.0    1.0    1.0    1.0    1.0    1.0    1.0  ...   \n",
       "3    1.0    1.0    1.0    0.0    1.0    1.0    1.0    1.0    1.0    1.0  ...   \n",
       "4    1.0    1.0    1.0    1.0    0.0    1.0    1.0    1.0    1.0    1.0  ...   \n",
       "\n",
       "   33950  33951  33952  33953  33954  33955  33956  33957  33958  33959  \n",
       "0    0.0    0.0    0.0    0.0    0.0    0.0    0.0    0.0    0.0    0.0  \n",
       "1    0.0    0.0    0.0    0.0    0.0    0.0    0.0    0.0    0.0    0.0  \n",
       "2    0.0    0.0    0.0    0.0    0.0    0.0    0.0    0.0    0.0    0.0  \n",
       "3    0.0    0.0    0.0    0.0    0.0    0.0    0.0    0.0    0.0    0.0  \n",
       "4    0.0    0.0    0.0    0.0    0.0    0.0    0.0    0.0    0.0    0.0  \n",
       "\n",
       "[5 rows x 33960 columns]"
      ]
     },
     "execution_count": 55,
     "metadata": {},
     "output_type": "execute_result"
    }
   ],
   "source": [
    "pd.DataFrame(weight_m).head()"
   ]
  },
  {
   "cell_type": "code",
   "execution_count": null,
   "metadata": {},
   "outputs": [
    {
     "data": {
      "text/plain": [
       "<matplotlib.image.AxesImage at 0x7f79d37be7f0>"
      ]
     },
     "execution_count": 10,
     "metadata": {},
     "output_type": "execute_result"
    }
   ],
   "source": [
    "fig, ax = plt.subplots(figsize=(10, 10))\n",
    "ax.imshow(weight_m)"
   ]
  },
  {
   "cell_type": "code",
   "execution_count": null,
   "metadata": {},
   "outputs": [],
   "source": [
    "# Test if matrix is symetric: \n",
    "np.all(weight_m.T == weight_m)"
   ]
  },
  {
   "cell_type": "markdown",
   "metadata": {},
   "source": [
    "### Heat matrix: "
   ]
  },
  {
   "cell_type": "markdown",
   "metadata": {},
   "source": [
    "#### Choice of t:"
   ]
  },
  {
   "cell_type": "code",
   "execution_count": 53,
   "metadata": {},
   "outputs": [
    {
     "data": {
      "text/plain": [
       "{'mean_distances': 1.9120933791892165e-05,\n",
       " 'max_distances': 0.0002519566442999222,\n",
       " 'mean_dist_all': 0.00018081015819586767}"
      ]
     },
     "execution_count": 53,
     "metadata": {},
     "output_type": "execute_result"
    }
   ],
   "source": [
    "mult_df = np.multiply(distance_matrix, weight_m)\n",
    "\n",
    "mean_distances = np.mean(mult_df)\n",
    "max_distances = np.max(mult_df)\n",
    "t = [mean_distances, max_distances]\n",
    "ts = {\n",
    "    'mean_distances': mean_distances,\n",
    "    'max_distances': max_distances,\n",
    "    'mean_dist_all':np.mean(distance_matrix)\n",
    "}\n",
    "ts"
   ]
  },
  {
   "cell_type": "code",
   "execution_count": 54,
   "metadata": {},
   "outputs": [
    {
     "data": {
      "text/plain": [
       "{'mean_distances': 1.9120933791892165e-05,\n",
       " 'max_distances': 0.0002519566442999222,\n",
       " 'mean_dist_all': 0.00018081015819586767}"
      ]
     },
     "execution_count": 54,
     "metadata": {},
     "output_type": "execute_result"
    }
   ],
   "source": [
    "ts"
   ]
  },
  {
   "cell_type": "code",
   "execution_count": 34,
   "metadata": {},
   "outputs": [],
   "source": [
    "non_zero_mult = np.extract(mult_df>0, mult_df)"
   ]
  },
  {
   "cell_type": "code",
   "execution_count": 45,
   "metadata": {},
   "outputs": [
    {
     "data": {
      "text/plain": [
       "<matplotlib.legend.Legend at 0x7f70eccd3f70>"
      ]
     },
     "execution_count": 45,
     "metadata": {},
     "output_type": "execute_result"
    },
    {
     "data": {
      "image/png": "[encoded data removed]",
      "text/plain": [
       "<Figure size 432x288 with 1 Axes>"
      ]
     },
     "metadata": {
      "needs_background": "light"
     },
     "output_type": "display_data"
    }
   ],
   "source": [
    "hist, bin_edges = np.histogram(non_zero_mult, bins = 50)\n",
    "plt.hist(hist)\n",
    "plt.title('histogram of distances between neighbours')\n",
    "plt.axvline(t[0], color = 'red', label = 'mean')\n",
    "plt.legend()"
   ]
  },
  {
   "cell_type": "markdown",
   "metadata": {},
   "source": [
    "#### Heat matrix: "
   ]
  },
  {
   "cell_type": "code",
   "execution_count": null,
   "metadata": {},
   "outputs": [],
   "source": [
    "import os\n",
    "for i in t: \n",
    "    if not os.path.exists(PATH+'t_'+str(chosen_t)+'/'):\n",
    "        os.makedirs(PATH+'t_'+str(chosen_t)+'/')"
   ]
  },
  {
   "cell_type": "code",
   "execution_count": 26,
   "metadata": {},
   "outputs": [],
   "source": [
    "! ls ../../../data/vandermeer/pickles/raw/t_1.9120933791892165e-05/"
   ]
  },
  {
   "cell_type": "code",
   "execution_count": 15,
   "metadata": {},
   "outputs": [
    {
     "data": {
      "text/plain": [
       "'../../../data/vandermeer/pickles/raw/t_1.9120933791892165e-05/'"
      ]
     },
     "execution_count": 15,
     "metadata": {},
     "output_type": "execute_result"
    }
   ],
   "source": [
    "chosen_t = t[0]\n",
    "PATH2 = PATH+'t_'+str(chosen_t)+'/'\n",
    "PATH2"
   ]
  },
  {
   "cell_type": "code",
   "execution_count": 27,
   "metadata": {
    "scrolled": true
   },
   "outputs": [],
   "source": [
    "distance_df = pd.DataFrame(distance_matrix)\n",
    "heat_matrix_df = distance_df.apply(lambda x: np.exp(-(x**2) / (chosen_t**2)))\n",
    "heat_matrix_df = pd.DataFrame(np.multiply(weight_m, heat_matrix_df))"
   ]
  },
  {
   "cell_type": "code",
   "execution_count": 17,
   "metadata": {},
   "outputs": [],
   "source": [
    "heat_matrix_df.to_pickle(PATH2+'heat_matrix_'+str(chosen_t)+ '_.pkl')"
   ]
  },
  {
   "cell_type": "code",
   "execution_count": 18,
   "metadata": {},
   "outputs": [],
   "source": [
    "heat_matrix = pd.read_pickle(PATH2+'heat_matrix_'+str(chosen_t)+'_.pkl').values"
   ]
  },
  {
   "cell_type": "code",
   "execution_count": 28,
   "metadata": {},
   "outputs": [
    {
     "data": {
      "text/plain": [
       "<matplotlib.image.AxesImage at 0x7f70ed2e4730>"
      ]
     },
     "execution_count": 28,
     "metadata": {},
     "output_type": "execute_result"
    },
    {
     "data": {
      "image/png": "[encoded data removed]",
      "text/plain": [
       "<Figure size 432x288 with 1 Axes>"
      ]
     },
     "metadata": {
      "needs_background": "light"
     },
     "output_type": "display_data"
    }
   ],
   "source": [
    "plt.imshow(heat_matrix[:10,:10])"
   ]
  },
  {
   "cell_type": "code",
   "execution_count": 29,
   "metadata": {},
   "outputs": [
    {
     "data": {
      "text/html": [
       "<div>\n",
       "<style scoped>\n",
       "    .dataframe tbody tr th:only-of-type {\n",
       "        vertical-align: middle;\n",
       "    }\n",
       "\n",
       "    .dataframe tbody tr th {\n",
       "        vertical-align: top;\n",
       "    }\n",
       "\n",
       "    .dataframe thead th {\n",
       "        text-align: right;\n",
       "    }\n",
       "</style>\n",
       "<table border=\"1\" class=\"dataframe\">\n",
       "  <thead>\n",
       "    <tr style=\"text-align: right;\">\n",
       "      <th></th>\n",
       "      <th>0</th>\n",
       "      <th>1</th>\n",
       "      <th>2</th>\n",
       "      <th>3</th>\n",
       "      <th>4</th>\n",
       "      <th>5</th>\n",
       "      <th>6</th>\n",
       "      <th>7</th>\n",
       "      <th>8</th>\n",
       "      <th>9</th>\n",
       "      <th>...</th>\n",
       "      <th>33950</th>\n",
       "      <th>33951</th>\n",
       "      <th>33952</th>\n",
       "      <th>33953</th>\n",
       "      <th>33954</th>\n",
       "      <th>33955</th>\n",
       "      <th>33956</th>\n",
       "      <th>33957</th>\n",
       "      <th>33958</th>\n",
       "      <th>33959</th>\n",
       "    </tr>\n",
       "  </thead>\n",
       "  <tbody>\n",
       "    <tr>\n",
       "      <th>0</th>\n",
       "      <td>0.000000e+00</td>\n",
       "      <td>0.001234</td>\n",
       "      <td>0.000019</td>\n",
       "      <td>0.000001</td>\n",
       "      <td>4.060392e-07</td>\n",
       "      <td>6.182382e-09</td>\n",
       "      <td>9.827382e-11</td>\n",
       "      <td>7.912132e-13</td>\n",
       "      <td>7.815603e-15</td>\n",
       "      <td>1.784287e-17</td>\n",
       "      <td>...</td>\n",
       "      <td>0.0</td>\n",
       "      <td>0.0</td>\n",
       "      <td>0.0</td>\n",
       "      <td>0.0</td>\n",
       "      <td>0.0</td>\n",
       "      <td>0.0</td>\n",
       "      <td>0.0</td>\n",
       "      <td>0.0</td>\n",
       "      <td>0.0</td>\n",
       "      <td>0.0</td>\n",
       "    </tr>\n",
       "    <tr>\n",
       "      <th>1</th>\n",
       "      <td>1.234073e-03</td>\n",
       "      <td>0.000000</td>\n",
       "      <td>0.001847</td>\n",
       "      <td>0.000025</td>\n",
       "      <td>6.966719e-06</td>\n",
       "      <td>6.374864e-07</td>\n",
       "      <td>1.288662e-08</td>\n",
       "      <td>9.411401e-11</td>\n",
       "      <td>1.292944e-12</td>\n",
       "      <td>7.517815e-15</td>\n",
       "      <td>...</td>\n",
       "      <td>0.0</td>\n",
       "      <td>0.0</td>\n",
       "      <td>0.0</td>\n",
       "      <td>0.0</td>\n",
       "      <td>0.0</td>\n",
       "      <td>0.0</td>\n",
       "      <td>0.0</td>\n",
       "      <td>0.0</td>\n",
       "      <td>0.0</td>\n",
       "      <td>0.0</td>\n",
       "    </tr>\n",
       "    <tr>\n",
       "      <th>2</th>\n",
       "      <td>1.859738e-05</td>\n",
       "      <td>0.001847</td>\n",
       "      <td>0.000000</td>\n",
       "      <td>0.002639</td>\n",
       "      <td>2.266178e-04</td>\n",
       "      <td>1.897438e-05</td>\n",
       "      <td>3.071941e-06</td>\n",
       "      <td>5.907633e-08</td>\n",
       "      <td>7.274896e-10</td>\n",
       "      <td>3.006967e-12</td>\n",
       "      <td>...</td>\n",
       "      <td>0.0</td>\n",
       "      <td>0.0</td>\n",
       "      <td>0.0</td>\n",
       "      <td>0.0</td>\n",
       "      <td>0.0</td>\n",
       "      <td>0.0</td>\n",
       "      <td>0.0</td>\n",
       "      <td>0.0</td>\n",
       "      <td>0.0</td>\n",
       "      <td>0.0</td>\n",
       "    </tr>\n",
       "    <tr>\n",
       "      <th>3</th>\n",
       "      <td>1.195045e-06</td>\n",
       "      <td>0.000025</td>\n",
       "      <td>0.002639</td>\n",
       "      <td>0.000000</td>\n",
       "      <td>6.778853e-03</td>\n",
       "      <td>2.243974e-04</td>\n",
       "      <td>5.079322e-05</td>\n",
       "      <td>1.062110e-06</td>\n",
       "      <td>3.057020e-08</td>\n",
       "      <td>1.425356e-10</td>\n",
       "      <td>...</td>\n",
       "      <td>0.0</td>\n",
       "      <td>0.0</td>\n",
       "      <td>0.0</td>\n",
       "      <td>0.0</td>\n",
       "      <td>0.0</td>\n",
       "      <td>0.0</td>\n",
       "      <td>0.0</td>\n",
       "      <td>0.0</td>\n",
       "      <td>0.0</td>\n",
       "      <td>0.0</td>\n",
       "    </tr>\n",
       "    <tr>\n",
       "      <th>4</th>\n",
       "      <td>4.060392e-07</td>\n",
       "      <td>0.000007</td>\n",
       "      <td>0.000227</td>\n",
       "      <td>0.006779</td>\n",
       "      <td>0.000000e+00</td>\n",
       "      <td>7.780728e-03</td>\n",
       "      <td>3.341066e-04</td>\n",
       "      <td>4.218084e-06</td>\n",
       "      <td>2.042346e-07</td>\n",
       "      <td>1.538563e-09</td>\n",
       "      <td>...</td>\n",
       "      <td>0.0</td>\n",
       "      <td>0.0</td>\n",
       "      <td>0.0</td>\n",
       "      <td>0.0</td>\n",
       "      <td>0.0</td>\n",
       "      <td>0.0</td>\n",
       "      <td>0.0</td>\n",
       "      <td>0.0</td>\n",
       "      <td>0.0</td>\n",
       "      <td>0.0</td>\n",
       "    </tr>\n",
       "  </tbody>\n",
       "</table>\n",
       "<p>5 rows × 33960 columns</p>\n",
       "</div>"
      ],
      "text/plain": [
       "          0         1         2         3             4             5      \\\n",
       "0  0.000000e+00  0.001234  0.000019  0.000001  4.060392e-07  6.182382e-09   \n",
       "1  1.234073e-03  0.000000  0.001847  0.000025  6.966719e-06  6.374864e-07   \n",
       "2  1.859738e-05  0.001847  0.000000  0.002639  2.266178e-04  1.897438e-05   \n",
       "3  1.195045e-06  0.000025  0.002639  0.000000  6.778853e-03  2.243974e-04   \n",
       "4  4.060392e-07  0.000007  0.000227  0.006779  0.000000e+00  7.780728e-03   \n",
       "\n",
       "          6             7             8             9      ...  33950  33951  \\\n",
       "0  9.827382e-11  7.912132e-13  7.815603e-15  1.784287e-17  ...    0.0    0.0   \n",
       "1  1.288662e-08  9.411401e-11  1.292944e-12  7.517815e-15  ...    0.0    0.0   \n",
       "2  3.071941e-06  5.907633e-08  7.274896e-10  3.006967e-12  ...    0.0    0.0   \n",
       "3  5.079322e-05  1.062110e-06  3.057020e-08  1.425356e-10  ...    0.0    0.0   \n",
       "4  3.341066e-04  4.218084e-06  2.042346e-07  1.538563e-09  ...    0.0    0.0   \n",
       "\n",
       "   33952  33953  33954  33955  33956  33957  33958  33959  \n",
       "0    0.0    0.0    0.0    0.0    0.0    0.0    0.0    0.0  \n",
       "1    0.0    0.0    0.0    0.0    0.0    0.0    0.0    0.0  \n",
       "2    0.0    0.0    0.0    0.0    0.0    0.0    0.0    0.0  \n",
       "3    0.0    0.0    0.0    0.0    0.0    0.0    0.0    0.0  \n",
       "4    0.0    0.0    0.0    0.0    0.0    0.0    0.0    0.0  \n",
       "\n",
       "[5 rows x 33960 columns]"
      ]
     },
     "execution_count": 29,
     "metadata": {},
     "output_type": "execute_result"
    }
   ],
   "source": [
    "pd.DataFrame(heat_matrix).head()"
   ]
  },
  {
   "cell_type": "markdown",
   "metadata": {},
   "source": [
    "To choose t: look at distances and take mean or max of all distances among neighbours. Check if t is not the squared of distance. For large t we should have something close to what we have now. Notice that as t tends to 0, the heat kernel Ht(x, y) becomes increasingly localized and tends to Dirac’s δ-function. $w_ij = -exp||xi-xj||^2/t$"
   ]
  },
  {
   "cell_type": "code",
   "execution_count": 30,
   "metadata": {},
   "outputs": [],
   "source": [
    "non_zero_heat = np.extract(heat_matrix>0, heat_matrix)"
   ]
  },
  {
   "cell_type": "code",
   "execution_count": 31,
   "metadata": {},
   "outputs": [
    {
     "data": {
      "text/plain": [
       "array([1.23407265e-03, 1.85973846e-05, 1.19504495e-06, ...,\n",
       "       3.41347120e-08, 8.27745549e-06, 1.33009186e-02])"
      ]
     },
     "execution_count": 31,
     "metadata": {},
     "output_type": "execute_result"
    }
   ],
   "source": [
    "non_zero_heat"
   ]
  },
  {
   "cell_type": "code",
   "execution_count": 37,
   "metadata": {},
   "outputs": [
    {
     "data": {
      "text/plain": [
       "Text(0.5, 1.0, 'histogram of non zero values of heat matrix')"
      ]
     },
     "execution_count": 37,
     "metadata": {},
     "output_type": "execute_result"
    },
    {
     "data": {
      "image/png": "[encoded data removed]",
      "text/plain": [
       "<Figure size 432x288 with 1 Axes>"
      ]
     },
     "metadata": {
      "needs_background": "light"
     },
     "output_type": "display_data"
    }
   ],
   "source": [
    "hist, bin_edges = np.histogram(non_zero_heat, bins = 50)\n",
    "plt.hist(hist)\n",
    "plt.title('histogram of non zero values of heat matrix')"
   ]
  },
  {
   "cell_type": "markdown",
   "metadata": {},
   "source": [
    "#### Diagonal weight matrix: \n",
    "$D_{ii} = \\sum_j W_{ij}$ Sum of each of the colons of W ? "
   ]
  },
  {
   "cell_type": "code",
   "execution_count": 46,
   "metadata": {},
   "outputs": [
    {
     "name": "stderr",
     "output_type": "stream",
     "text": [
      "100%|██████████| 33960/33960 [00:34<00:00, 976.73it/s] \n"
     ]
    }
   ],
   "source": [
    "wm = heat_matrix\n",
    "D = np.zeros((len(wm),len(wm)))\n",
    "for i in tqdm(range(len(wm))):\n",
    "    D[i,i] = np.sum(wm[i])\n",
    "D_df = pd.DataFrame(D)\n",
    "D_df.to_pickle(PATH2+'diagonal_heat_matrix_'+str(chosen_t)+'_.pkl')"
   ]
  },
  {
   "cell_type": "code",
   "execution_count": 47,
   "metadata": {},
   "outputs": [],
   "source": [
    "D = pd.read_pickle(PATH2+'diagonal_heat_matrix_'+str(chosen_t)+'_.pkl').values"
   ]
  },
  {
   "cell_type": "code",
   "execution_count": 12,
   "metadata": {},
   "outputs": [
    {
     "data": {
      "text/html": [
       "<div>\n",
       "<style scoped>\n",
       "    .dataframe tbody tr th:only-of-type {\n",
       "        vertical-align: middle;\n",
       "    }\n",
       "\n",
       "    .dataframe tbody tr th {\n",
       "        vertical-align: top;\n",
       "    }\n",
       "\n",
       "    .dataframe thead th {\n",
       "        text-align: right;\n",
       "    }\n",
       "</style>\n",
       "<table border=\"1\" class=\"dataframe\">\n",
       "  <thead>\n",
       "    <tr style=\"text-align: right;\">\n",
       "      <th></th>\n",
       "      <th>0</th>\n",
       "      <th>1</th>\n",
       "      <th>2</th>\n",
       "      <th>3</th>\n",
       "      <th>4</th>\n",
       "      <th>5</th>\n",
       "      <th>6</th>\n",
       "      <th>7</th>\n",
       "      <th>8</th>\n",
       "      <th>9</th>\n",
       "      <th>...</th>\n",
       "      <th>33950</th>\n",
       "      <th>33951</th>\n",
       "      <th>33952</th>\n",
       "      <th>33953</th>\n",
       "      <th>33954</th>\n",
       "      <th>33955</th>\n",
       "      <th>33956</th>\n",
       "      <th>33957</th>\n",
       "      <th>33958</th>\n",
       "      <th>33959</th>\n",
       "    </tr>\n",
       "  </thead>\n",
       "  <tbody>\n",
       "    <tr>\n",
       "      <th>0</th>\n",
       "      <td>0.001254</td>\n",
       "      <td>0.000000</td>\n",
       "      <td>0.000000</td>\n",
       "      <td>0.00000</td>\n",
       "      <td>0.000000</td>\n",
       "      <td>0.0</td>\n",
       "      <td>0.0</td>\n",
       "      <td>0.0</td>\n",
       "      <td>0.0</td>\n",
       "      <td>0.0</td>\n",
       "      <td>...</td>\n",
       "      <td>0.0</td>\n",
       "      <td>0.0</td>\n",
       "      <td>0.0</td>\n",
       "      <td>0.0</td>\n",
       "      <td>0.0</td>\n",
       "      <td>0.000000</td>\n",
       "      <td>0.000000</td>\n",
       "      <td>0.000000</td>\n",
       "      <td>0.00000</td>\n",
       "      <td>0.000000</td>\n",
       "    </tr>\n",
       "    <tr>\n",
       "      <th>1</th>\n",
       "      <td>0.000000</td>\n",
       "      <td>0.003114</td>\n",
       "      <td>0.000000</td>\n",
       "      <td>0.00000</td>\n",
       "      <td>0.000000</td>\n",
       "      <td>0.0</td>\n",
       "      <td>0.0</td>\n",
       "      <td>0.0</td>\n",
       "      <td>0.0</td>\n",
       "      <td>0.0</td>\n",
       "      <td>...</td>\n",
       "      <td>0.0</td>\n",
       "      <td>0.0</td>\n",
       "      <td>0.0</td>\n",
       "      <td>0.0</td>\n",
       "      <td>0.0</td>\n",
       "      <td>0.000000</td>\n",
       "      <td>0.000000</td>\n",
       "      <td>0.000000</td>\n",
       "      <td>0.00000</td>\n",
       "      <td>0.000000</td>\n",
       "    </tr>\n",
       "    <tr>\n",
       "      <th>2</th>\n",
       "      <td>0.000000</td>\n",
       "      <td>0.000000</td>\n",
       "      <td>0.004754</td>\n",
       "      <td>0.00000</td>\n",
       "      <td>0.000000</td>\n",
       "      <td>0.0</td>\n",
       "      <td>0.0</td>\n",
       "      <td>0.0</td>\n",
       "      <td>0.0</td>\n",
       "      <td>0.0</td>\n",
       "      <td>...</td>\n",
       "      <td>0.0</td>\n",
       "      <td>0.0</td>\n",
       "      <td>0.0</td>\n",
       "      <td>0.0</td>\n",
       "      <td>0.0</td>\n",
       "      <td>0.000000</td>\n",
       "      <td>0.000000</td>\n",
       "      <td>0.000000</td>\n",
       "      <td>0.00000</td>\n",
       "      <td>0.000000</td>\n",
       "    </tr>\n",
       "    <tr>\n",
       "      <th>3</th>\n",
       "      <td>0.000000</td>\n",
       "      <td>0.000000</td>\n",
       "      <td>0.000000</td>\n",
       "      <td>0.00972</td>\n",
       "      <td>0.000000</td>\n",
       "      <td>0.0</td>\n",
       "      <td>0.0</td>\n",
       "      <td>0.0</td>\n",
       "      <td>0.0</td>\n",
       "      <td>0.0</td>\n",
       "      <td>...</td>\n",
       "      <td>0.0</td>\n",
       "      <td>0.0</td>\n",
       "      <td>0.0</td>\n",
       "      <td>0.0</td>\n",
       "      <td>0.0</td>\n",
       "      <td>0.000000</td>\n",
       "      <td>0.000000</td>\n",
       "      <td>0.000000</td>\n",
       "      <td>0.00000</td>\n",
       "      <td>0.000000</td>\n",
       "    </tr>\n",
       "    <tr>\n",
       "      <th>4</th>\n",
       "      <td>0.000000</td>\n",
       "      <td>0.000000</td>\n",
       "      <td>0.000000</td>\n",
       "      <td>0.00000</td>\n",
       "      <td>0.015132</td>\n",
       "      <td>0.0</td>\n",
       "      <td>0.0</td>\n",
       "      <td>0.0</td>\n",
       "      <td>0.0</td>\n",
       "      <td>0.0</td>\n",
       "      <td>...</td>\n",
       "      <td>0.0</td>\n",
       "      <td>0.0</td>\n",
       "      <td>0.0</td>\n",
       "      <td>0.0</td>\n",
       "      <td>0.0</td>\n",
       "      <td>0.000000</td>\n",
       "      <td>0.000000</td>\n",
       "      <td>0.000000</td>\n",
       "      <td>0.00000</td>\n",
       "      <td>0.000000</td>\n",
       "    </tr>\n",
       "    <tr>\n",
       "      <th>...</th>\n",
       "      <td>...</td>\n",
       "      <td>...</td>\n",
       "      <td>...</td>\n",
       "      <td>...</td>\n",
       "      <td>...</td>\n",
       "      <td>...</td>\n",
       "      <td>...</td>\n",
       "      <td>...</td>\n",
       "      <td>...</td>\n",
       "      <td>...</td>\n",
       "      <td>...</td>\n",
       "      <td>...</td>\n",
       "      <td>...</td>\n",
       "      <td>...</td>\n",
       "      <td>...</td>\n",
       "      <td>...</td>\n",
       "      <td>...</td>\n",
       "      <td>...</td>\n",
       "      <td>...</td>\n",
       "      <td>...</td>\n",
       "      <td>...</td>\n",
       "    </tr>\n",
       "    <tr>\n",
       "      <th>33955</th>\n",
       "      <td>0.000000</td>\n",
       "      <td>0.000000</td>\n",
       "      <td>0.000000</td>\n",
       "      <td>0.00000</td>\n",
       "      <td>0.000000</td>\n",
       "      <td>0.0</td>\n",
       "      <td>0.0</td>\n",
       "      <td>0.0</td>\n",
       "      <td>0.0</td>\n",
       "      <td>0.0</td>\n",
       "      <td>...</td>\n",
       "      <td>0.0</td>\n",
       "      <td>0.0</td>\n",
       "      <td>0.0</td>\n",
       "      <td>0.0</td>\n",
       "      <td>0.0</td>\n",
       "      <td>0.012564</td>\n",
       "      <td>0.000000</td>\n",
       "      <td>0.000000</td>\n",
       "      <td>0.00000</td>\n",
       "      <td>0.000000</td>\n",
       "    </tr>\n",
       "    <tr>\n",
       "      <th>33956</th>\n",
       "      <td>0.000000</td>\n",
       "      <td>0.000000</td>\n",
       "      <td>0.000000</td>\n",
       "      <td>0.00000</td>\n",
       "      <td>0.000000</td>\n",
       "      <td>0.0</td>\n",
       "      <td>0.0</td>\n",
       "      <td>0.0</td>\n",
       "      <td>0.0</td>\n",
       "      <td>0.0</td>\n",
       "      <td>...</td>\n",
       "      <td>0.0</td>\n",
       "      <td>0.0</td>\n",
       "      <td>0.0</td>\n",
       "      <td>0.0</td>\n",
       "      <td>0.0</td>\n",
       "      <td>0.000000</td>\n",
       "      <td>0.016543</td>\n",
       "      <td>0.000000</td>\n",
       "      <td>0.00000</td>\n",
       "      <td>0.000000</td>\n",
       "    </tr>\n",
       "    <tr>\n",
       "      <th>33957</th>\n",
       "      <td>0.000000</td>\n",
       "      <td>0.000000</td>\n",
       "      <td>0.000000</td>\n",
       "      <td>0.00000</td>\n",
       "      <td>0.000000</td>\n",
       "      <td>0.0</td>\n",
       "      <td>0.0</td>\n",
       "      <td>0.0</td>\n",
       "      <td>0.0</td>\n",
       "      <td>0.0</td>\n",
       "      <td>...</td>\n",
       "      <td>0.0</td>\n",
       "      <td>0.0</td>\n",
       "      <td>0.0</td>\n",
       "      <td>0.0</td>\n",
       "      <td>0.0</td>\n",
       "      <td>0.000000</td>\n",
       "      <td>0.000000</td>\n",
       "      <td>0.017164</td>\n",
       "      <td>0.00000</td>\n",
       "      <td>0.000000</td>\n",
       "    </tr>\n",
       "    <tr>\n",
       "      <th>33958</th>\n",
       "      <td>0.000000</td>\n",
       "      <td>0.000000</td>\n",
       "      <td>0.000000</td>\n",
       "      <td>0.00000</td>\n",
       "      <td>0.000000</td>\n",
       "      <td>0.0</td>\n",
       "      <td>0.0</td>\n",
       "      <td>0.0</td>\n",
       "      <td>0.0</td>\n",
       "      <td>0.0</td>\n",
       "      <td>...</td>\n",
       "      <td>0.0</td>\n",
       "      <td>0.0</td>\n",
       "      <td>0.0</td>\n",
       "      <td>0.0</td>\n",
       "      <td>0.0</td>\n",
       "      <td>0.000000</td>\n",
       "      <td>0.000000</td>\n",
       "      <td>0.000000</td>\n",
       "      <td>0.02153</td>\n",
       "      <td>0.000000</td>\n",
       "    </tr>\n",
       "    <tr>\n",
       "      <th>33959</th>\n",
       "      <td>0.000000</td>\n",
       "      <td>0.000000</td>\n",
       "      <td>0.000000</td>\n",
       "      <td>0.00000</td>\n",
       "      <td>0.000000</td>\n",
       "      <td>0.0</td>\n",
       "      <td>0.0</td>\n",
       "      <td>0.0</td>\n",
       "      <td>0.0</td>\n",
       "      <td>0.0</td>\n",
       "      <td>...</td>\n",
       "      <td>0.0</td>\n",
       "      <td>0.0</td>\n",
       "      <td>0.0</td>\n",
       "      <td>0.0</td>\n",
       "      <td>0.0</td>\n",
       "      <td>0.000000</td>\n",
       "      <td>0.000000</td>\n",
       "      <td>0.000000</td>\n",
       "      <td>0.00000</td>\n",
       "      <td>0.013309</td>\n",
       "    </tr>\n",
       "  </tbody>\n",
       "</table>\n",
       "<p>33960 rows × 33960 columns</p>\n",
       "</div>"
      ],
      "text/plain": [
       "          0         1         2        3         4      5      6      7      \\\n",
       "0      0.001254  0.000000  0.000000  0.00000  0.000000    0.0    0.0    0.0   \n",
       "1      0.000000  0.003114  0.000000  0.00000  0.000000    0.0    0.0    0.0   \n",
       "2      0.000000  0.000000  0.004754  0.00000  0.000000    0.0    0.0    0.0   \n",
       "3      0.000000  0.000000  0.000000  0.00972  0.000000    0.0    0.0    0.0   \n",
       "4      0.000000  0.000000  0.000000  0.00000  0.015132    0.0    0.0    0.0   \n",
       "...         ...       ...       ...      ...       ...    ...    ...    ...   \n",
       "33955  0.000000  0.000000  0.000000  0.00000  0.000000    0.0    0.0    0.0   \n",
       "33956  0.000000  0.000000  0.000000  0.00000  0.000000    0.0    0.0    0.0   \n",
       "33957  0.000000  0.000000  0.000000  0.00000  0.000000    0.0    0.0    0.0   \n",
       "33958  0.000000  0.000000  0.000000  0.00000  0.000000    0.0    0.0    0.0   \n",
       "33959  0.000000  0.000000  0.000000  0.00000  0.000000    0.0    0.0    0.0   \n",
       "\n",
       "       8      9      ...  33950  33951  33952  33953  33954     33955  \\\n",
       "0        0.0    0.0  ...    0.0    0.0    0.0    0.0    0.0  0.000000   \n",
       "1        0.0    0.0  ...    0.0    0.0    0.0    0.0    0.0  0.000000   \n",
       "2        0.0    0.0  ...    0.0    0.0    0.0    0.0    0.0  0.000000   \n",
       "3        0.0    0.0  ...    0.0    0.0    0.0    0.0    0.0  0.000000   \n",
       "4        0.0    0.0  ...    0.0    0.0    0.0    0.0    0.0  0.000000   \n",
       "...      ...    ...  ...    ...    ...    ...    ...    ...       ...   \n",
       "33955    0.0    0.0  ...    0.0    0.0    0.0    0.0    0.0  0.012564   \n",
       "33956    0.0    0.0  ...    0.0    0.0    0.0    0.0    0.0  0.000000   \n",
       "33957    0.0    0.0  ...    0.0    0.0    0.0    0.0    0.0  0.000000   \n",
       "33958    0.0    0.0  ...    0.0    0.0    0.0    0.0    0.0  0.000000   \n",
       "33959    0.0    0.0  ...    0.0    0.0    0.0    0.0    0.0  0.000000   \n",
       "\n",
       "          33956     33957    33958     33959  \n",
       "0      0.000000  0.000000  0.00000  0.000000  \n",
       "1      0.000000  0.000000  0.00000  0.000000  \n",
       "2      0.000000  0.000000  0.00000  0.000000  \n",
       "3      0.000000  0.000000  0.00000  0.000000  \n",
       "4      0.000000  0.000000  0.00000  0.000000  \n",
       "...         ...       ...      ...       ...  \n",
       "33955  0.000000  0.000000  0.00000  0.000000  \n",
       "33956  0.016543  0.000000  0.00000  0.000000  \n",
       "33957  0.000000  0.017164  0.00000  0.000000  \n",
       "33958  0.000000  0.000000  0.02153  0.000000  \n",
       "33959  0.000000  0.000000  0.00000  0.013309  \n",
       "\n",
       "[33960 rows x 33960 columns]"
      ]
     },
     "execution_count": 12,
     "metadata": {},
     "output_type": "execute_result"
    }
   ],
   "source": [
    "pd.DataFrame(D)"
   ]
  },
  {
   "cell_type": "code",
   "execution_count": 36,
   "metadata": {},
   "outputs": [
    {
     "data": {
      "text/plain": [
       "(33960, 33960)"
      ]
     },
     "execution_count": 36,
     "metadata": {},
     "output_type": "execute_result"
    }
   ],
   "source": [
    "D.shape"
   ]
  },
  {
   "cell_type": "code",
   "execution_count": 47,
   "metadata": {},
   "outputs": [
    {
     "data": {
      "text/plain": [
       "(array([28027.,  3201.,  1575.,   485.,   223.,   114.,   134.,    95.,\n",
       "           74.,    32.]),\n",
       " array([6.25438047e-17, 1.51974595e+00, 3.03949190e+00, 4.55923785e+00,\n",
       "        6.07898380e+00, 7.59872975e+00, 9.11847571e+00, 1.06382217e+01,\n",
       "        1.21579676e+01, 1.36777136e+01, 1.51974595e+01]),\n",
       " <BarContainer object of 10 artists>)"
      ]
     },
     "execution_count": 47,
     "metadata": {},
     "output_type": "execute_result"
    },
    {
     "data": {
      "image/png": "[encoded data removed]",
      "text/plain": [
       "<Figure size 432x288 with 1 Axes>"
      ]
     },
     "metadata": {
      "needs_background": "light"
     },
     "output_type": "display_data"
    }
   ],
   "source": [
    "plt.hist(np.diagonal(D))"
   ]
  },
  {
   "cell_type": "markdown",
   "metadata": {},
   "source": [
    "### Laplacian matrix: \n",
    "\n",
    "$L = D- W$"
   ]
  },
  {
   "cell_type": "code",
   "execution_count": 48,
   "metadata": {
    "run_control": {
     "marked": true
    }
   },
   "outputs": [
    {
     "data": {
      "application/javascript": [
       "$(document).ready(\n",
       "    function() {\n",
       "        function appendUniqueDiv(){\n",
       "            // append a div with our uuid so we can check that it's already\n",
       "            // been sent and avoid duplicates on page reload\n",
       "            var notifiedDiv = document.createElement(\"div\")\n",
       "            notifiedDiv.id = \"4be522c6-ab0a-42d1-a40f-5030866f0f6b\"\n",
       "            element.append(notifiedDiv)\n",
       "        }\n",
       "\n",
       "        // only send notifications if the pageload is complete; this will\n",
       "        // help stop extra notifications when a saved notebook is loaded,\n",
       "        // which during testing gives us state \"interactive\", not \"complete\"\n",
       "        if (document.readyState === 'complete') {\n",
       "            // check for the div that signifies that the notification\n",
       "            // was already sent\n",
       "            if (document.getElementById(\"4be522c6-ab0a-42d1-a40f-5030866f0f6b\") === null) {\n",
       "                var notificationPayload = {\"requireInteraction\": false, \"icon\": \"/static/base/images/favicon.ico\", \"body\": \"Cell execution has finished!\"};\n",
       "                if (Notification.permission !== 'denied') {\n",
       "                    if (Notification.permission !== 'granted') { \n",
       "                        Notification.requestPermission(function (permission) {\n",
       "                            if(!('permission' in Notification)) {\n",
       "                                Notification.permission = permission\n",
       "                            }\n",
       "                        })\n",
       "                    }\n",
       "                    if (Notification.permission === 'granted') {\n",
       "                    var notification = new Notification(\"Jupyter Notebook\", notificationPayload)\n",
       "                    appendUniqueDiv()\n",
       "                    notification.onclick = function () {\n",
       "                        window.focus();\n",
       "                        this.close();\n",
       "                        };\n",
       "                    } \n",
       "                }     \n",
       "            }\n",
       "        }\n",
       "    }\n",
       ")\n"
      ],
      "text/plain": [
       "<IPython.core.display.Javascript object>"
      ]
     },
     "metadata": {},
     "output_type": "display_data"
    }
   ],
   "source": [
    "%%notify\n",
    "wm = heat_matrix\n",
    "L = np.subtract(D, wm)\n",
    "L_df = pd.DataFrame(L)\n",
    "L_df.to_pickle(PATH2+'laplacian_heat_matrix_'+str(chosen_t)+'_.pkl')"
   ]
  },
  {
   "cell_type": "code",
   "execution_count": 48,
   "metadata": {},
   "outputs": [],
   "source": [
    "L = pd.read_pickle(PATH2+'laplacian_heat_matrix_'+str(chosen_t)+'_.pkl').values"
   ]
  },
  {
   "cell_type": "code",
   "execution_count": 15,
   "metadata": {},
   "outputs": [
    {
     "data": {
      "text/plain": [
       "(33960, 33960)"
      ]
     },
     "execution_count": 15,
     "metadata": {},
     "output_type": "execute_result"
    }
   ],
   "source": [
    "L.shape"
   ]
  },
  {
   "cell_type": "code",
   "execution_count": 51,
   "metadata": {},
   "outputs": [
    {
     "data": {
      "text/html": [
       "<div>\n",
       "<style scoped>\n",
       "    .dataframe tbody tr th:only-of-type {\n",
       "        vertical-align: middle;\n",
       "    }\n",
       "\n",
       "    .dataframe tbody tr th {\n",
       "        vertical-align: top;\n",
       "    }\n",
       "\n",
       "    .dataframe thead th {\n",
       "        text-align: right;\n",
       "    }\n",
       "</style>\n",
       "<table border=\"1\" class=\"dataframe\">\n",
       "  <thead>\n",
       "    <tr style=\"text-align: right;\">\n",
       "      <th></th>\n",
       "      <th>0</th>\n",
       "      <th>1</th>\n",
       "      <th>2</th>\n",
       "      <th>3</th>\n",
       "      <th>4</th>\n",
       "      <th>5</th>\n",
       "      <th>6</th>\n",
       "      <th>7</th>\n",
       "      <th>8</th>\n",
       "      <th>9</th>\n",
       "      <th>...</th>\n",
       "      <th>33950</th>\n",
       "      <th>33951</th>\n",
       "      <th>33952</th>\n",
       "      <th>33953</th>\n",
       "      <th>33954</th>\n",
       "      <th>33955</th>\n",
       "      <th>33956</th>\n",
       "      <th>33957</th>\n",
       "      <th>33958</th>\n",
       "      <th>33959</th>\n",
       "    </tr>\n",
       "  </thead>\n",
       "  <tbody>\n",
       "    <tr>\n",
       "      <th>0</th>\n",
       "      <td>1.254277e-03</td>\n",
       "      <td>-0.001234</td>\n",
       "      <td>-0.000019</td>\n",
       "      <td>-0.000001</td>\n",
       "      <td>-4.060392e-07</td>\n",
       "      <td>-6.182382e-09</td>\n",
       "      <td>-9.827382e-11</td>\n",
       "      <td>-7.912132e-13</td>\n",
       "      <td>-7.815603e-15</td>\n",
       "      <td>-1.784287e-17</td>\n",
       "      <td>...</td>\n",
       "      <td>0.000000e+00</td>\n",
       "      <td>0.000000e+00</td>\n",
       "      <td>0.000000e+00</td>\n",
       "      <td>0.000000e+00</td>\n",
       "      <td>0.000000e+00</td>\n",
       "      <td>0.000000e+00</td>\n",
       "      <td>0.000000e+00</td>\n",
       "      <td>0.000000</td>\n",
       "      <td>0.000000e+00</td>\n",
       "      <td>0.000000e+00</td>\n",
       "    </tr>\n",
       "    <tr>\n",
       "      <th>1</th>\n",
       "      <td>-1.234073e-03</td>\n",
       "      <td>0.003114</td>\n",
       "      <td>-0.001847</td>\n",
       "      <td>-0.000025</td>\n",
       "      <td>-6.966719e-06</td>\n",
       "      <td>-6.374864e-07</td>\n",
       "      <td>-1.288662e-08</td>\n",
       "      <td>-9.411401e-11</td>\n",
       "      <td>-1.292944e-12</td>\n",
       "      <td>-7.517815e-15</td>\n",
       "      <td>...</td>\n",
       "      <td>0.000000e+00</td>\n",
       "      <td>0.000000e+00</td>\n",
       "      <td>0.000000e+00</td>\n",
       "      <td>0.000000e+00</td>\n",
       "      <td>0.000000e+00</td>\n",
       "      <td>0.000000e+00</td>\n",
       "      <td>0.000000e+00</td>\n",
       "      <td>0.000000</td>\n",
       "      <td>0.000000e+00</td>\n",
       "      <td>0.000000e+00</td>\n",
       "    </tr>\n",
       "    <tr>\n",
       "      <th>2</th>\n",
       "      <td>-1.859738e-05</td>\n",
       "      <td>-0.001847</td>\n",
       "      <td>0.004754</td>\n",
       "      <td>-0.002639</td>\n",
       "      <td>-2.266178e-04</td>\n",
       "      <td>-1.897438e-05</td>\n",
       "      <td>-3.071941e-06</td>\n",
       "      <td>-5.907633e-08</td>\n",
       "      <td>-7.274896e-10</td>\n",
       "      <td>-3.006967e-12</td>\n",
       "      <td>...</td>\n",
       "      <td>0.000000e+00</td>\n",
       "      <td>0.000000e+00</td>\n",
       "      <td>0.000000e+00</td>\n",
       "      <td>0.000000e+00</td>\n",
       "      <td>0.000000e+00</td>\n",
       "      <td>0.000000e+00</td>\n",
       "      <td>0.000000e+00</td>\n",
       "      <td>0.000000</td>\n",
       "      <td>0.000000e+00</td>\n",
       "      <td>0.000000e+00</td>\n",
       "    </tr>\n",
       "    <tr>\n",
       "      <th>3</th>\n",
       "      <td>-1.195045e-06</td>\n",
       "      <td>-0.000025</td>\n",
       "      <td>-0.002639</td>\n",
       "      <td>0.009720</td>\n",
       "      <td>-6.778853e-03</td>\n",
       "      <td>-2.243974e-04</td>\n",
       "      <td>-5.079322e-05</td>\n",
       "      <td>-1.062110e-06</td>\n",
       "      <td>-3.057020e-08</td>\n",
       "      <td>-1.425356e-10</td>\n",
       "      <td>...</td>\n",
       "      <td>0.000000e+00</td>\n",
       "      <td>0.000000e+00</td>\n",
       "      <td>0.000000e+00</td>\n",
       "      <td>0.000000e+00</td>\n",
       "      <td>0.000000e+00</td>\n",
       "      <td>0.000000e+00</td>\n",
       "      <td>0.000000e+00</td>\n",
       "      <td>0.000000</td>\n",
       "      <td>0.000000e+00</td>\n",
       "      <td>0.000000e+00</td>\n",
       "    </tr>\n",
       "    <tr>\n",
       "      <th>4</th>\n",
       "      <td>-4.060392e-07</td>\n",
       "      <td>-0.000007</td>\n",
       "      <td>-0.000227</td>\n",
       "      <td>-0.006779</td>\n",
       "      <td>1.513210e-02</td>\n",
       "      <td>-7.780728e-03</td>\n",
       "      <td>-3.341066e-04</td>\n",
       "      <td>-4.218084e-06</td>\n",
       "      <td>-2.042346e-07</td>\n",
       "      <td>-1.538563e-09</td>\n",
       "      <td>...</td>\n",
       "      <td>0.000000e+00</td>\n",
       "      <td>0.000000e+00</td>\n",
       "      <td>0.000000e+00</td>\n",
       "      <td>0.000000e+00</td>\n",
       "      <td>0.000000e+00</td>\n",
       "      <td>0.000000e+00</td>\n",
       "      <td>0.000000e+00</td>\n",
       "      <td>0.000000</td>\n",
       "      <td>0.000000e+00</td>\n",
       "      <td>0.000000e+00</td>\n",
       "    </tr>\n",
       "    <tr>\n",
       "      <th>...</th>\n",
       "      <td>...</td>\n",
       "      <td>...</td>\n",
       "      <td>...</td>\n",
       "      <td>...</td>\n",
       "      <td>...</td>\n",
       "      <td>...</td>\n",
       "      <td>...</td>\n",
       "      <td>...</td>\n",
       "      <td>...</td>\n",
       "      <td>...</td>\n",
       "      <td>...</td>\n",
       "      <td>...</td>\n",
       "      <td>...</td>\n",
       "      <td>...</td>\n",
       "      <td>...</td>\n",
       "      <td>...</td>\n",
       "      <td>...</td>\n",
       "      <td>...</td>\n",
       "      <td>...</td>\n",
       "      <td>...</td>\n",
       "      <td>...</td>\n",
       "    </tr>\n",
       "    <tr>\n",
       "      <th>33955</th>\n",
       "      <td>0.000000e+00</td>\n",
       "      <td>0.000000</td>\n",
       "      <td>0.000000</td>\n",
       "      <td>0.000000</td>\n",
       "      <td>0.000000e+00</td>\n",
       "      <td>0.000000e+00</td>\n",
       "      <td>0.000000e+00</td>\n",
       "      <td>0.000000e+00</td>\n",
       "      <td>0.000000e+00</td>\n",
       "      <td>0.000000e+00</td>\n",
       "      <td>...</td>\n",
       "      <td>-3.640149e-21</td>\n",
       "      <td>-8.164729e-17</td>\n",
       "      <td>-3.055399e-11</td>\n",
       "      <td>-1.525001e-06</td>\n",
       "      <td>-4.998285e-03</td>\n",
       "      <td>1.256375e-02</td>\n",
       "      <td>-7.562162e-03</td>\n",
       "      <td>-0.000002</td>\n",
       "      <td>-4.863151e-10</td>\n",
       "      <td>-2.812319e-13</td>\n",
       "    </tr>\n",
       "    <tr>\n",
       "      <th>33956</th>\n",
       "      <td>0.000000e+00</td>\n",
       "      <td>0.000000</td>\n",
       "      <td>0.000000</td>\n",
       "      <td>0.000000</td>\n",
       "      <td>0.000000e+00</td>\n",
       "      <td>0.000000e+00</td>\n",
       "      <td>0.000000e+00</td>\n",
       "      <td>0.000000e+00</td>\n",
       "      <td>0.000000e+00</td>\n",
       "      <td>0.000000e+00</td>\n",
       "      <td>...</td>\n",
       "      <td>-3.783178e-25</td>\n",
       "      <td>-9.009453e-22</td>\n",
       "      <td>-1.410258e-15</td>\n",
       "      <td>-1.035573e-10</td>\n",
       "      <td>-4.360889e-06</td>\n",
       "      <td>-7.562162e-03</td>\n",
       "      <td>1.654337e-02</td>\n",
       "      <td>-0.008951</td>\n",
       "      <td>-2.581223e-05</td>\n",
       "      <td>-3.413471e-08</td>\n",
       "    </tr>\n",
       "    <tr>\n",
       "      <th>33957</th>\n",
       "      <td>0.000000e+00</td>\n",
       "      <td>0.000000</td>\n",
       "      <td>0.000000</td>\n",
       "      <td>0.000000</td>\n",
       "      <td>0.000000e+00</td>\n",
       "      <td>0.000000e+00</td>\n",
       "      <td>0.000000e+00</td>\n",
       "      <td>0.000000e+00</td>\n",
       "      <td>0.000000e+00</td>\n",
       "      <td>0.000000e+00</td>\n",
       "      <td>...</td>\n",
       "      <td>-1.304526e-29</td>\n",
       "      <td>-2.412177e-26</td>\n",
       "      <td>-1.981403e-20</td>\n",
       "      <td>-2.639742e-15</td>\n",
       "      <td>-4.257174e-10</td>\n",
       "      <td>-1.780254e-06</td>\n",
       "      <td>-8.951003e-03</td>\n",
       "      <td>0.017164</td>\n",
       "      <td>-8.203218e-03</td>\n",
       "      <td>-8.277455e-06</td>\n",
       "    </tr>\n",
       "    <tr>\n",
       "      <th>33958</th>\n",
       "      <td>0.000000e+00</td>\n",
       "      <td>0.000000</td>\n",
       "      <td>0.000000</td>\n",
       "      <td>0.000000</td>\n",
       "      <td>0.000000e+00</td>\n",
       "      <td>0.000000e+00</td>\n",
       "      <td>0.000000e+00</td>\n",
       "      <td>0.000000e+00</td>\n",
       "      <td>0.000000e+00</td>\n",
       "      <td>0.000000e+00</td>\n",
       "      <td>...</td>\n",
       "      <td>-2.420985e-33</td>\n",
       "      <td>-1.083550e-30</td>\n",
       "      <td>-1.769465e-24</td>\n",
       "      <td>-2.329994e-19</td>\n",
       "      <td>-6.628779e-14</td>\n",
       "      <td>-4.863151e-10</td>\n",
       "      <td>-2.581223e-05</td>\n",
       "      <td>-0.008203</td>\n",
       "      <td>2.152995e-02</td>\n",
       "      <td>-1.330092e-02</td>\n",
       "    </tr>\n",
       "    <tr>\n",
       "      <th>33959</th>\n",
       "      <td>0.000000e+00</td>\n",
       "      <td>0.000000</td>\n",
       "      <td>0.000000</td>\n",
       "      <td>0.000000</td>\n",
       "      <td>0.000000e+00</td>\n",
       "      <td>0.000000e+00</td>\n",
       "      <td>0.000000e+00</td>\n",
       "      <td>0.000000e+00</td>\n",
       "      <td>0.000000e+00</td>\n",
       "      <td>0.000000e+00</td>\n",
       "      <td>...</td>\n",
       "      <td>-8.530199e-37</td>\n",
       "      <td>-2.739124e-34</td>\n",
       "      <td>-2.863010e-28</td>\n",
       "      <td>-4.010904e-23</td>\n",
       "      <td>-1.606442e-17</td>\n",
       "      <td>-2.812319e-13</td>\n",
       "      <td>-3.413471e-08</td>\n",
       "      <td>-0.000008</td>\n",
       "      <td>-1.330092e-02</td>\n",
       "      <td>1.330923e-02</td>\n",
       "    </tr>\n",
       "  </tbody>\n",
       "</table>\n",
       "<p>33960 rows × 33960 columns</p>\n",
       "</div>"
      ],
      "text/plain": [
       "              0         1         2         3             4             5      \\\n",
       "0      1.254277e-03 -0.001234 -0.000019 -0.000001 -4.060392e-07 -6.182382e-09   \n",
       "1     -1.234073e-03  0.003114 -0.001847 -0.000025 -6.966719e-06 -6.374864e-07   \n",
       "2     -1.859738e-05 -0.001847  0.004754 -0.002639 -2.266178e-04 -1.897438e-05   \n",
       "3     -1.195045e-06 -0.000025 -0.002639  0.009720 -6.778853e-03 -2.243974e-04   \n",
       "4     -4.060392e-07 -0.000007 -0.000227 -0.006779  1.513210e-02 -7.780728e-03   \n",
       "...             ...       ...       ...       ...           ...           ...   \n",
       "33955  0.000000e+00  0.000000  0.000000  0.000000  0.000000e+00  0.000000e+00   \n",
       "33956  0.000000e+00  0.000000  0.000000  0.000000  0.000000e+00  0.000000e+00   \n",
       "33957  0.000000e+00  0.000000  0.000000  0.000000  0.000000e+00  0.000000e+00   \n",
       "33958  0.000000e+00  0.000000  0.000000  0.000000  0.000000e+00  0.000000e+00   \n",
       "33959  0.000000e+00  0.000000  0.000000  0.000000  0.000000e+00  0.000000e+00   \n",
       "\n",
       "              6             7             8             9      ...  \\\n",
       "0     -9.827382e-11 -7.912132e-13 -7.815603e-15 -1.784287e-17  ...   \n",
       "1     -1.288662e-08 -9.411401e-11 -1.292944e-12 -7.517815e-15  ...   \n",
       "2     -3.071941e-06 -5.907633e-08 -7.274896e-10 -3.006967e-12  ...   \n",
       "3     -5.079322e-05 -1.062110e-06 -3.057020e-08 -1.425356e-10  ...   \n",
       "4     -3.341066e-04 -4.218084e-06 -2.042346e-07 -1.538563e-09  ...   \n",
       "...             ...           ...           ...           ...  ...   \n",
       "33955  0.000000e+00  0.000000e+00  0.000000e+00  0.000000e+00  ...   \n",
       "33956  0.000000e+00  0.000000e+00  0.000000e+00  0.000000e+00  ...   \n",
       "33957  0.000000e+00  0.000000e+00  0.000000e+00  0.000000e+00  ...   \n",
       "33958  0.000000e+00  0.000000e+00  0.000000e+00  0.000000e+00  ...   \n",
       "33959  0.000000e+00  0.000000e+00  0.000000e+00  0.000000e+00  ...   \n",
       "\n",
       "              33950         33951         33952         33953         33954  \\\n",
       "0      0.000000e+00  0.000000e+00  0.000000e+00  0.000000e+00  0.000000e+00   \n",
       "1      0.000000e+00  0.000000e+00  0.000000e+00  0.000000e+00  0.000000e+00   \n",
       "2      0.000000e+00  0.000000e+00  0.000000e+00  0.000000e+00  0.000000e+00   \n",
       "3      0.000000e+00  0.000000e+00  0.000000e+00  0.000000e+00  0.000000e+00   \n",
       "4      0.000000e+00  0.000000e+00  0.000000e+00  0.000000e+00  0.000000e+00   \n",
       "...             ...           ...           ...           ...           ...   \n",
       "33955 -3.640149e-21 -8.164729e-17 -3.055399e-11 -1.525001e-06 -4.998285e-03   \n",
       "33956 -3.783178e-25 -9.009453e-22 -1.410258e-15 -1.035573e-10 -4.360889e-06   \n",
       "33957 -1.304526e-29 -2.412177e-26 -1.981403e-20 -2.639742e-15 -4.257174e-10   \n",
       "33958 -2.420985e-33 -1.083550e-30 -1.769465e-24 -2.329994e-19 -6.628779e-14   \n",
       "33959 -8.530199e-37 -2.739124e-34 -2.863010e-28 -4.010904e-23 -1.606442e-17   \n",
       "\n",
       "              33955         33956     33957         33958         33959  \n",
       "0      0.000000e+00  0.000000e+00  0.000000  0.000000e+00  0.000000e+00  \n",
       "1      0.000000e+00  0.000000e+00  0.000000  0.000000e+00  0.000000e+00  \n",
       "2      0.000000e+00  0.000000e+00  0.000000  0.000000e+00  0.000000e+00  \n",
       "3      0.000000e+00  0.000000e+00  0.000000  0.000000e+00  0.000000e+00  \n",
       "4      0.000000e+00  0.000000e+00  0.000000  0.000000e+00  0.000000e+00  \n",
       "...             ...           ...       ...           ...           ...  \n",
       "33955  1.256375e-02 -7.562162e-03 -0.000002 -4.863151e-10 -2.812319e-13  \n",
       "33956 -7.562162e-03  1.654337e-02 -0.008951 -2.581223e-05 -3.413471e-08  \n",
       "33957 -1.780254e-06 -8.951003e-03  0.017164 -8.203218e-03 -8.277455e-06  \n",
       "33958 -4.863151e-10 -2.581223e-05 -0.008203  2.152995e-02 -1.330092e-02  \n",
       "33959 -2.812319e-13 -3.413471e-08 -0.000008 -1.330092e-02  1.330923e-02  \n",
       "\n",
       "[33960 rows x 33960 columns]"
      ]
     },
     "execution_count": 51,
     "metadata": {},
     "output_type": "execute_result"
    }
   ],
   "source": [
    "pd.DataFrame(L)"
   ]
  },
  {
   "cell_type": "code",
   "execution_count": 28,
   "metadata": {
    "scrolled": true
   },
   "outputs": [
    {
     "data": {
      "text/plain": [
       "<matplotlib.image.AxesImage at 0x7fbab1c60130>"
      ]
     },
     "execution_count": 28,
     "metadata": {},
     "output_type": "execute_result"
    },
    {
     "data": {
      "image/png": "[encoded data removed]",
      "text/plain": [
       "<Figure size 432x288 with 1 Axes>"
      ]
     },
     "metadata": {
      "needs_background": "light"
     },
     "output_type": "display_data"
    }
   ],
   "source": [
    "plt.imshow(L[:10,:10])"
   ]
  },
  {
   "cell_type": "code",
   "execution_count": 52,
   "metadata": {},
   "outputs": [
    {
     "data": {
      "text/plain": [
       "Text(0.5, 1.0, 'histogram of non zero values of laplacian matrix')"
      ]
     },
     "execution_count": 52,
     "metadata": {},
     "output_type": "execute_result"
    },
    {
     "data": {
      "image/png": "[encoded data removed]",
      "text/plain": [
       "<Figure size 432x288 with 1 Axes>"
      ]
     },
     "metadata": {
      "needs_background": "light"
     },
     "output_type": "display_data"
    }
   ],
   "source": [
    "non_zero_L = np.extract(L!=0, L)\n",
    "hist, bin_edges = np.histogram(non_zero_L, bins = 200)\n",
    "plt.hist(hist)\n",
    "plt.title('histogram of non zero values of laplacian matrix')"
   ]
  },
  {
   "cell_type": "markdown",
   "metadata": {},
   "source": [
    "#### Eigenvalues: \n",
    "\n",
    "Eigendecomposition, check only one connected component"
   ]
  },
  {
   "cell_type": "code",
   "execution_count": 49,
   "metadata": {},
   "outputs": [
    {
     "name": "stdout",
     "output_type": "stream",
     "text": [
      "CPU times: user 25min 22s, sys: 5min 52s, total: 31min 14s\n",
      "Wall time: 4min 18s\n"
     ]
    }
   ],
   "source": [
    "%%time\n",
    "w, eigv = linalg.eigs(L, k=10, M=D, which='SM')\n",
    "pd.DataFrame(w).to_pickle(PATH2 + 'eigenvalues_heat_matrix_' + str(chosen_t) +\n",
    "                          '_.pkl')\n",
    "pd.DataFrame(eigv).to_pickle(PATH2 + 'eigenvectors_heat_matrix_' +\n",
    "                             str(chosen_t) + '_.pkl')"
   ]
  },
  {
   "cell_type": "code",
   "execution_count": 50,
   "metadata": {},
   "outputs": [],
   "source": [
    "w = pd.read_pickle(PATH2+'eigenvalues_heat_matrix_'+str(chosen_t)+'_.pkl')\n",
    "eigv = pd.read_pickle(PATH2+'eigenvectors_heat_matrix_'+str(chosen_t)+'_.pkl')"
   ]
  },
  {
   "cell_type": "markdown",
   "metadata": {},
   "source": [
    "$X'_i = X \\phi_i \\phi_i^T, \\phi \\in R^{33960}, X \\in R^{Nx1001} : data$ or with linear regression, plot also time-series and power spectrum. on raw data, 1st mdode should match some patter n everyr 6months\n",
    "\n",
    "scipy- sparse linalg eigs, generalized decomposition (package ?) eigs in scipy https://spectralib.org/\n",
    "wich prameter in linalg.eigs. --> SM check what they mean with magnitude, same as value ? "
   ]
  },
  {
   "cell_type": "code",
   "execution_count": null,
   "metadata": {},
   "outputs": [],
   "source": [
    "! ls ../../../data/vandermeer/pickles/raw/"
   ]
  },
  {
   "cell_type": "code",
   "execution_count": null,
   "metadata": {},
   "outputs": [],
   "source": [
    "! ls ../../../data/vandermeer/pickles/raw/t_0.00018081015819586767"
   ]
  },
  {
   "cell_type": "markdown",
   "metadata": {},
   "source": [
    "#### Create plots for all t:"
   ]
  },
  {
   "cell_type": "code",
   "execution_count": null,
   "metadata": {},
   "outputs": [],
   "source": [
    "ts "
   ]
  },
  {
   "cell_type": "code",
   "execution_count": null,
   "metadata": {},
   "outputs": [],
   "source": [
    "possible_t = [\n",
    "    0.00018081015819586767, 0.0004674197965411565, 2.1848126619857615e-07,\n",
    "    3.269231330681469e-08, 0.001, 0.01, 0.1, 1\n",
    "]\n",
    "for chosen_t in possible_t:\n",
    "    PATH2 = PATH + f't_{chosen_t}/'\n",
    "    w = pd.read_pickle(PATH2 + 'eigenvalues_heat_matrix_' + str(chosen_t) +\n",
    "                       '_.pkl').values\n",
    "    eigv = pd.read_pickle(PATH2 + 'eigenvectors_heat_matrix_' + str(chosen_t) +\n",
    "                          '_.pkl').values\n",
    "\n",
    "    time = raw_cf['Date']\n",
    "    time = pd.to_datetime(time)\n",
    "    eigv_time = pd.concat([time, pd.DataFrame(eigv)], axis=1)\n",
    "    eigv_time = eigv_time.set_index('Date')\n",
    "    \n",
    "    # plot eigenvalues:\n",
    "    plot_eigenvalues(w, chosen_t)\n",
    "    \n",
    "    # plot all eigenvectors for all years:\n",
    "    plot_all_eig(eigv_time, chosen_t)\n",
    "    \n",
    "    # plot all eigenvectors for one winter:\n",
    "    plot_one_winter(eigv_time, chosen_t)\n",
    "    \n",
    "    # plot winters supperposés:\n",
    "    winters_supp(eigv_time, chosen_t)\n",
    "    \n",
    "    # plot a few winters:\n",
    "    plot_few_years(eigv_time, chosen_t)\n",
    "    \n",
    "    # power spectrum:\n",
    "    pwr_compl(eigv_time, sampling_rate_days, chosen_t)"
   ]
  },
  {
   "cell_type": "code",
   "execution_count": null,
   "metadata": {},
   "outputs": [],
   "source": [
    "for chosen_t in possible_t:\n",
    "    PATH2 = PATH + f't_{chosen_t}/'\n",
    "    w = pd.read_pickle(PATH2 + 'eigenvalues_heat_matrix_' + str(chosen_t) +\n",
    "                       '_.pkl').values\n",
    "    eigv = pd.read_pickle(PATH2 + 'eigenvectors_heat_matrix_' + str(chosen_t) +\n",
    "                          '_.pkl').values\n",
    "    print('Eigenvalues for t {}:  \\n {}'.format(round(chosen_t, 5), w))"
   ]
  },
  {
   "cell_type": "markdown",
   "metadata": {},
   "source": [
    "#### For one special t: "
   ]
  },
  {
   "cell_type": "code",
   "execution_count": null,
   "metadata": {},
   "outputs": [],
   "source": [
    "ts"
   ]
  },
  {
   "cell_type": "code",
   "execution_count": null,
   "metadata": {},
   "outputs": [],
   "source": [
    "\"\"\"\n",
    "w, eigv = linalg.eigs(L.values, k=10, M=D, which='SM')\n",
    "pd.DataFrame(w).to_pickle(PATH + 'eigenvalues_heat_matrix_' + str(chosen_t) +\n",
    "                          '_.pkl')\n",
    "pd.DataFrame(eigv).to_pickle(PATH + 'eigenvectors_heat_matrix_' +\n",
    "                             str(chosen_t) + '_.pkl')\n",
    "\"\"\""
   ]
  },
  {
   "cell_type": "code",
   "execution_count": null,
   "metadata": {},
   "outputs": [],
   "source": [
    "chosen_t = ts['mean_distances']\n",
    "chosen_t2 = ts['mean_distances**2']\n",
    "chosen_t3 = ts['max_distances']\n",
    "chosen_t4 = ts['max_distances**2']\n",
    "\n",
    "PATH2 = PATH + f't_{chosen_t}/'\n",
    "PATH3 = PATH + f't_{chosen_t2}/'\n",
    "PATH4 = PATH + f't_{chosen_t3}/'\n",
    "PATH5 = PATH + f't_{chosen_t4}/'\n",
    "\n",
    "\n",
    "w = pd.read_pickle(PATH2 + 'eigenvalues_heat_matrix_' + str(chosen_t) +\n",
    "                       '_.pkl').values\n",
    "eigv = pd.read_pickle(PATH2 + 'eigenvectors_heat_matrix_' + str(chosen_t) +\n",
    "                          '_.pkl').values\n",
    "\n",
    "w2 = pd.read_pickle(PATH3 + 'eigenvalues_heat_matrix_' + str(chosen_t2) +\n",
    "                       '_.pkl').values\n",
    "eigv2 = pd.read_pickle(PATH3 + 'eigenvectors_heat_matrix_' + str(chosen_t2) +\n",
    "                          '_.pkl').values\n",
    "\n",
    "w3 = pd.read_pickle(PATH4 + 'eigenvalues_heat_matrix_' + str(chosen_t3) +\n",
    "                       '_.pkl').values\n",
    "eigv3 = pd.read_pickle(PATH4 + 'eigenvectors_heat_matrix_' + str(chosen_t3) +\n",
    "                          '_.pkl').values\n",
    "\n",
    "w4 = pd.read_pickle(PATH5 + 'eigenvalues_heat_matrix_' + str(chosen_t4) +\n",
    "                       '_.pkl').values\n",
    "eigv4 = pd.read_pickle(PATH5 + 'eigenvectors_heat_matrix_' + str(chosen_t4) +\n",
    "                          '_.pkl').values"
   ]
  },
  {
   "cell_type": "code",
   "execution_count": null,
   "metadata": {},
   "outputs": [],
   "source": [
    "#w, w2, w3, w4"
   ]
  },
  {
   "cell_type": "markdown",
   "metadata": {},
   "source": [
    "Plots of eigenvectors: "
   ]
  },
  {
   "cell_type": "code",
   "execution_count": null,
   "metadata": {},
   "outputs": [],
   "source": [
    "time = raw_cf['Date']\n",
    "time = pd.to_datetime(time)\n",
    "eigv_time = pd.concat([time, pd.DataFrame(eigv)], axis=1)\n",
    "eigv_time = eigv_time.set_index('Date')"
   ]
  },
  {
   "cell_type": "code",
   "execution_count": null,
   "metadata": {},
   "outputs": [],
   "source": [
    "time2 = raw_cf['Date']\n",
    "time2 = pd.to_datetime(time)\n",
    "eigv_time2 = pd.concat([time, pd.DataFrame(eigv2)], axis=1)\n",
    "eigv_time2 = eigv_time2.set_index('Date')"
   ]
  },
  {
   "cell_type": "code",
   "execution_count": null,
   "metadata": {},
   "outputs": [],
   "source": [
    "time3 = raw_cf['Date']\n",
    "time3 = pd.to_datetime(time)\n",
    "eigv_time3 = pd.concat([time, pd.DataFrame(eigv3)], axis=1)\n",
    "eigv_time3 = eigv_time3.set_index('Date')"
   ]
  },
  {
   "cell_type": "code",
   "execution_count": null,
   "metadata": {},
   "outputs": [],
   "source": [
    "time4 = raw_cf['Date']\n",
    "time4 = pd.to_datetime(time)\n",
    "eigv_time4 = pd.concat([time, pd.DataFrame(eigv4)], axis=1)\n",
    "eigv_time4 = eigv_time4.set_index('Date')"
   ]
  },
  {
   "cell_type": "markdown",
   "metadata": {},
   "source": [
    "## Tasks:"
   ]
  },
  {
   "cell_type": "markdown",
   "metadata": {},
   "source": [
    "### Plot eigenvalues:"
   ]
  },
  {
   "cell_type": "code",
   "execution_count": null,
   "metadata": {},
   "outputs": [],
   "source": [
    "def plot_eigenvalues(w, chosen_t):\n",
    "    plt.scatter(x = range(0,10), y =w, marker='x')\n",
    "    plt.title(f'Eigenvalues for t: {round(chosen_t,5)}')\n",
    "    plt.savefig(f'images/eigenvalues/eigenvalues_{round(chosen_t,5)}.png')"
   ]
  },
  {
   "cell_type": "code",
   "execution_count": null,
   "metadata": {},
   "outputs": [],
   "source": [
    "plt.scatter(x = range(0,10), y =w, marker='x', label = 'Mean dist')\n",
    "plt.scatter(x = range(0,10), y =w2, marker='x', label = 'Mean dist**2')\n",
    "plt.scatter(x = range(0,10), y =w3, marker='x', label = 'Max dist')\n",
    "plt.scatter(x = range(0,10), y =w4, marker='x', label = 'Max dist**2')\n",
    "plt.legend()\n",
    "plt.title(f'Eigenvalues for t: {round(chosen_t,5)}')"
   ]
  },
  {
   "cell_type": "markdown",
   "metadata": {},
   "source": [
    "### Plot all eigenvectors for all years:"
   ]
  },
  {
   "cell_type": "code",
   "execution_count": null,
   "metadata": {},
   "outputs": [],
   "source": [
    "def plot_all_eig(eigv_time, chosen_t):\n",
    "    fig, axs = plt.subplots(5, 2, figsize=(20, 20))\n",
    "    m = 0\n",
    "    for i in range(2):\n",
    "        for j in range(5):\n",
    "            axs[j, i].scatter(eigv_time[m].index,\n",
    "                              eigv_time[m].values,\n",
    "                              marker='.')\n",
    "            axs[j, i].set_title(f\"eigenvector {m}\")\n",
    "            m += 1\n",
    "    plt.savefig(f'images/all_years/all_eig_all_years_{round(chosen_t,5)}.png')"
   ]
  },
  {
   "cell_type": "code",
   "execution_count": null,
   "metadata": {
    "scrolled": false
   },
   "outputs": [],
   "source": [
    "fig, axs = plt.subplots(5, 2, figsize=(20, 20))\n",
    "m = 0\n",
    "for i in range(2):\n",
    "    for j in range(5):\n",
    "        axs[j, i].scatter(eigv_time[m].index,\n",
    "                              eigv_time[m].values,\n",
    "                              marker='.', label = 'Mean dist')\n",
    "        axs[j, i].scatter(eigv_time2[m].index,\n",
    "                              eigv_time2[m].values,\n",
    "                              marker='.', label = 'Mean dist**2')\n",
    "        axs[j, i].scatter(eigv_time3[m].index,\n",
    "                              eigv_time3[m].values,\n",
    "                              marker='.', label = 'Max dist')\n",
    "        axs[j, i].scatter(eigv_time4[m].index,\n",
    "                              eigv_time4[m].values,\n",
    "                              marker='.', label = 'Max dist**2')\n",
    "        axs[j, i].set_title(f\"eigenvector {m}\")\n",
    "        m += 1\n",
    "plt.legend()"
   ]
  },
  {
   "cell_type": "markdown",
   "metadata": {},
   "source": [
    "### Plot all eigenvectors for one year:"
   ]
  },
  {
   "cell_type": "code",
   "execution_count": null,
   "metadata": {},
   "outputs": [],
   "source": [
    "def plot_one_year(eigv_time, chosen_t):\n",
    "    fig, axs = plt.subplots(5, 2, figsize=(20, 20))\n",
    "    m = 0\n",
    "    for i in range(2):\n",
    "        for j in range(5):\n",
    "            axs[j, i].scatter(eigv_time[m]['2010'].index,\n",
    "                              eigv_time[m]['2010'].values,\n",
    "                              marker='.')\n",
    "            axs[j, i].set_title(f\"eigenvector {m}\")\n",
    "            m += 1\n",
    "    plt.savefig(f'images/one_year/all_eig_one_year_{round(chosen_t,5)}.png')"
   ]
  },
  {
   "cell_type": "code",
   "execution_count": null,
   "metadata": {},
   "outputs": [],
   "source": [
    "fig, axs = plt.subplots(5, 2, figsize=(20, 20))\n",
    "m = 0\n",
    "for i in range(2):\n",
    "    for j in range(5):\n",
    "        axs[j, i].scatter(eigv_time[m]['2010'].index,\n",
    "                              eigv_time[m]['2010'].values,\n",
    "                              marker='.',label = 'Mean dist')\n",
    "        axs[j, i].scatter(eigv_time2[m]['2010'].index,\n",
    "                              eigv_time2[m]['2010'].values,\n",
    "                              marker='.', label = 'Mean dist**2')\n",
    "        axs[j, i].scatter(eigv_time3[m]['2010'].index,\n",
    "                              eigv_time3[m]['2010'].values,\n",
    "                              marker='.', label = 'Max dist')\n",
    "        axs[j, i].scatter(eigv_time4[m]['2010'].index,\n",
    "                              eigv_time4[m]['2010'].values,\n",
    "                              marker='.', label = 'Max dist**2')\n",
    "        axs[j, i].set_title(f\"eigenvector {m}\")\n",
    "        m += 1\n",
    "plt.legend()"
   ]
  },
  {
   "cell_type": "markdown",
   "metadata": {},
   "source": [
    "### Norm of eigenvectors:\n",
    "\n",
    "Check order of eigenvectors. Try $y^T D y = 1$"
   ]
  },
  {
   "cell_type": "code",
   "execution_count": null,
   "metadata": {
    "scrolled": true
   },
   "outputs": [],
   "source": [
    "D = pd.read_pickle(PATH2 + 'diagonal_heat_matrix_' + str(chosen_t) +\n",
    "                   '_.pkl').values"
   ]
  },
  {
   "cell_type": "code",
   "execution_count": null,
   "metadata": {},
   "outputs": [],
   "source": [
    "D"
   ]
  },
  {
   "cell_type": "code",
   "execution_count": null,
   "metadata": {},
   "outputs": [],
   "source": [
    "for i in eigv_time.columns:\n",
    "    y = eigv_time[i]\n",
    "    norm = y.T@D@y\n",
    "    print(f'Eigenvector {i} has norm {norm}')"
   ]
  },
  {
   "cell_type": "markdown",
   "metadata": {},
   "source": [
    "### Plot one winter (2008-2009):"
   ]
  },
  {
   "cell_type": "code",
   "execution_count": null,
   "metadata": {},
   "outputs": [],
   "source": [
    "def plot_one_winter(eigv_time, chosen_t):\n",
    "    fig, axs = plt.subplots(5, 2, figsize=(20, 20))\n",
    "    m = 0\n",
    "    for i in range(2):\n",
    "        for j in range(5):\n",
    "            winter_2008 = pd.date_range('2008-11', '2009-04')\n",
    "            winter_2008_eig = eigv_time[m][winter_2008]\n",
    "            axs[j, i].scatter(winter_2008_eig.index,\n",
    "                              winter_2008_eig.values,\n",
    "                              marker='.')\n",
    "            axs[j, i].plot(winter_2008_eig.index,\n",
    "                           winter_2008_eig.values,\n",
    "                           color='green')\n",
    "            axs[j, i].set_title(f\"Winter of 2008-2009, eigenvector {m}\")\n",
    "            m += 1\n",
    "    plt.savefig(\n",
    "        f'images/one_winter/all_eig_one_winter_{round(chosen_t,5)}.png')"
   ]
  },
  {
   "cell_type": "code",
   "execution_count": null,
   "metadata": {},
   "outputs": [],
   "source": [
    "fig, axs = plt.subplots(5, 2, figsize=(20, 20))\n",
    "m = 0\n",
    "for i in range(2):\n",
    "    for j in range(5):\n",
    "        winter_2008 = pd.date_range('2008-11', '2009-04')\n",
    "        winter_2008_eig = eigv_time[m][winter_2008]\n",
    "        winter_2008_eig2 = eigv_time2[m][winter_2008]\n",
    "        winter_2008_eig3 = eigv_time3[m][winter_2008]\n",
    "        winter_2008_eig4 = eigv_time4[m][winter_2008]\n",
    "\n",
    "        axs[j, i].scatter(winter_2008_eig.index,\n",
    "                              winter_2008_eig.values,\n",
    "                              marker='.',label = 'Mean dist')\n",
    "        axs[j, i].plot(winter_2008_eig.index,\n",
    "                           winter_2008_eig.values,\n",
    "                           color='grey')\n",
    "        axs[j, i].scatter(winter_2008_eig2.index,\n",
    "                              winter_2008_eig2.values,\n",
    "                              marker='.',label = 'Mean dist**2')\n",
    "        axs[j, i].plot(winter_2008_eig2.index,\n",
    "                           winter_2008_eig2.values,\n",
    "                           color='grey')\n",
    "        axs[j, i].plot(winter_2008_eig4.index,\n",
    "                           winter_2008_eig4.values,\n",
    "                           color='grey')\n",
    "        axs[j, i].plot(winter_2008_eig3.index,\n",
    "                           winter_2008_eig3.values,\n",
    "                           color='grey')\n",
    "        axs[j, i].scatter(winter_2008_eig3.index,\n",
    "                              winter_2008_eig3.values,\n",
    "                              marker='.',label = 'Max dist')\n",
    "        axs[j, i].scatter(winter_2008_eig4.index,\n",
    "                              winter_2008_eig4.values,\n",
    "                              marker='.',label = 'Max dist**2')\n",
    "        axs[j, i].set_title(f\"Winter of 2008-2009, eigenvector {m}\")\n",
    "        m += 1\n",
    "plt.legend()"
   ]
  },
  {
   "cell_type": "code",
   "execution_count": null,
   "metadata": {},
   "outputs": [],
   "source": [
    "fig, axs = plt.subplots(1, 3, figsize = (15,5))\n",
    "m = 0\n",
    "for i in range(3):\n",
    "        winter_2008 = pd.date_range('2008-11', '2009-04')\n",
    "        winter_2008_eig = eigv_time[m][winter_2008]\n",
    "        winter_2008_eig2 = eigv_time2[m][winter_2008]\n",
    "        winter_2008_eig3 = eigv_time3[m][winter_2008]\n",
    "        winter_2008_eig4 = eigv_time4[m][winter_2008]\n",
    "\n",
    "        axs[i].plot(winter_2008_eig.index,\n",
    "                               winter_2008_eig.values,'-x',\n",
    "                               label = 'Mean dist')\n",
    "        axs[i].plot(winter_2008_eig2.index,\n",
    "                               winter_2008_eig2.values\n",
    "                               ,label = 'Mean dist**2')\n",
    "        axs[i].plot(winter_2008_eig3.index,\n",
    "                               winter_2008_eig3.values,label = 'Max dist')\n",
    "        axs[i].plot(winter_2008_eig4.index,\n",
    "                                  winter_2008_eig4.values,label = 'Max dist**2')\n",
    "        axs[i].set_title(f\"Winter of 2008-2009, eigenvector {m}\")\n",
    "        m+= 1\n",
    "plt.legend()"
   ]
  },
  {
   "cell_type": "markdown",
   "metadata": {},
   "source": [
    "### Plot overlapping winters:"
   ]
  },
  {
   "cell_type": "code",
   "execution_count": null,
   "metadata": {},
   "outputs": [],
   "source": [
    "def transform_date(column):\n",
    "    new_col = []\n",
    "    year = column[0].year\n",
    "    for i in column:\n",
    "        month = i.month\n",
    "        day = i.day\n",
    "\n",
    "        if i.year > year:\n",
    "            new_col.append(datetime(1984, month, day))\n",
    "        else:\n",
    "            new_col.append(datetime(1983, month, day))\n",
    "    return new_col"
   ]
  },
  {
   "cell_type": "code",
   "execution_count": null,
   "metadata": {},
   "outputs": [],
   "source": [
    "def winters_supp(eigv_time, chosen_t):\n",
    "    years = eigv_time[0].index.year.unique()\n",
    "    n = len(years)\n",
    "    colors = plt.cm.jet(np.linspace(0, 1, n))\n",
    "    fig, ax = plt.subplots(figsize=(20, 10))\n",
    "    i = 0\n",
    "\n",
    "    winter_eigs = []\n",
    "    for year in years[:-1]:\n",
    "        winter_of_that_year = pd.date_range(\n",
    "            str(year) + '-11',\n",
    "            str(year + 1) + '-04')\n",
    "        winter_eig = eigv_time[0][winter_of_that_year]\n",
    "        winter_eigs.append(winter_eig.values)\n",
    "        #ax.plot(transform_date(winter_eig.index), winter_eig.values, label = year, color=colors[i])\n",
    "        ax.plot(transform_date(winter_eig.index), winter_eig.values, color='grey')\n",
    "        ax.set_xlabel('Winter')\n",
    "        ax.set_title('Winters of the first eigenvector')\n",
    "        ax.set_xticklabels(['Nov', 'Dec', 'Jan', 'Feb', 'Mar', 'Ap'])\n",
    "        i += 1\n",
    "\n",
    "    winter_of_that_year = pd.date_range(str(1979) + '-11', str(1979 + 1) + '-04')\n",
    "    winter_eig = eigv_time[0][winter_of_that_year]\n",
    "    df_winters = pd.DataFrame(winter_eigs).transpose()\n",
    "    df_winters.index = transform_date(winter_eig.index)\n",
    "    MEAN_WINTERS = df_winters.mean(axis=1)\n",
    "    MEAN_WINTERS.index = transform_date(MEAN_WINTERS.index)\n",
    "    MEDIAN_WINTERS = df_winters.median(axis=1)\n",
    "    MEDIAN_WINTERS.index = transform_date(MEDIAN_WINTERS.index)\n",
    "\n",
    "    ax.plot(MEAN_WINTERS, label='mean', color='r')\n",
    "    ax.plot(MEDIAN_WINTERS, label='median', color='b')\n",
    "\n",
    "    plt.legend()\n",
    "    plt.savefig(f'images/winters_supperposed/winters_supp_{round(chosen_t,5)}.png')\n",
    "    plt.show()"
   ]
  },
  {
   "cell_type": "code",
   "execution_count": null,
   "metadata": {},
   "outputs": [],
   "source": [
    "winters_supp(eigv_time2, chosen_t)"
   ]
  },
  {
   "cell_type": "code",
   "execution_count": null,
   "metadata": {},
   "outputs": [],
   "source": [
    "def plot_few_years(eigv_time, chosen_t):\n",
    "        years = [1979,1980,1981,1982,1983,1985]\n",
    "        n = len(years)\n",
    "        colors = plt.cm.jet(np.linspace(0,1,n))\n",
    "        fig, ax = plt.subplots()\n",
    "        i = 0\n",
    "        for year in years[:-1]:\n",
    "            winter_of_that_year = pd.date_range(str(year)+'-11',str(year+1)+'-04')\n",
    "            winter_eig = eigv_time[0][winter_of_that_year]\n",
    "            ax.plot(transform_date(winter_eig.index), winter_eig.values, label = year, color=colors[i])\n",
    "            ax.set_xlabel('Winter 1979-1985')\n",
    "            ax.set_title('Winters of the first eigenvector')\n",
    "            ax.set_xticklabels(['Nov','Dec','Jan','Feb','Mar','Ap'])\n",
    "            i+= 1\n",
    "        plt.legend()\n",
    "        plt.savefig(f'images/winters_supperposed/few_winters{round(chosen_t,5)}.png')\n",
    "        plt.show()"
   ]
  },
  {
   "cell_type": "code",
   "execution_count": null,
   "metadata": {},
   "outputs": [],
   "source": [
    "plot_few_years(eigv_time2, chosen_t)"
   ]
  },
  {
   "cell_type": "markdown",
   "metadata": {},
   "source": [
    "### Power Spectrums:\n",
    "Power spectrum plot for all years and then see something every 7 months"
   ]
  },
  {
   "cell_type": "code",
   "execution_count": null,
   "metadata": {},
   "outputs": [],
   "source": [
    "sampling_rate_seconds = 4 / (24 * 3600)\n",
    "print(f'Frequency: {sampling_rate_seconds} [s-1]')\n",
    "sampling_rate_days = 4\n",
    "print(f'Frequency: {sampling_rate_days} [d-1]')\n",
    "sampling_time = 1 / sampling_rate_days\n",
    "print(f'Sampling every  {sampling_time*24} hours')\n",
    "\n",
    "year_t = 365\n",
    "two_year_t = (365 / 2)\n",
    "three_year_t = (365 / 3)\n",
    "freq_year = 1 / year_t\n",
    "freq_two_year = 1 / two_year_t\n",
    "freq_three_year = 1 / three_year_t"
   ]
  },
  {
   "cell_type": "markdown",
   "metadata": {},
   "source": [
    "Pperations on frequency : log(frequency) -> in time 1/frequency\n",
    "indicate the 1/year, 2/year and 3/year frequencie"
   ]
  },
  {
   "cell_type": "markdown",
   "metadata": {},
   "source": [
    "Estimate power spectral density using a periodogram. Change to 1/frequency to time."
   ]
  },
  {
   "cell_type": "code",
   "execution_count": null,
   "metadata": {},
   "outputs": [],
   "source": [
    "def periodogram(eigv_time, sampling_rate_days, chosen_t):\n",
    "    # Periodogram:\n",
    "    f, Pxx_den = signal.periodogram(eigv_time[0], sampling_rate_days)\n",
    "\n",
    "    fig, axs = plt.subplots(1, figsize=(10, 5))\n",
    "    axs.semilogy(np.log(1 / f), Pxx_den)\n",
    "    axs.axvline(np.log(year_t), color='r', label='Every year')\n",
    "    axs.axvline(np.log(two_year_t), color='g', label='Twice per year')\n",
    "    axs.axvline(np.log(three_year_t), color='orange', label='Thrice per year')\n",
    "    axs.set_title(\"log(time [d])\")\n",
    "    axs.set_xticklabels(['0', '1', '7', '54', '403', '2980'])\n",
    "    axs.set_xlabel('Days')\n",
    "    plt.legend()\n",
    "    \n",
    "    plt.savefig(f'images/power_spectrum/pwr_spectrum{round(chosen_t,5)}.png')"
   ]
  },
  {
   "cell_type": "code",
   "execution_count": null,
   "metadata": {},
   "outputs": [],
   "source": [
    "periodogram(eigv_time2, sampling_rate_days, chosen_t)"
   ]
  },
  {
   "cell_type": "code",
   "execution_count": null,
   "metadata": {},
   "outputs": [],
   "source": [
    "\"\"\"\n",
    "ticks = []\n",
    "for ticklabel in axs.get_xticklabels():\n",
    "     ticks.append(ticklabel.get_text())   \n",
    "print(ticks)\n",
    "ticks = [0, 2, 4, 6, 8]\n",
    "np.floor(np.exp(ticks))\n",
    "ticks = [0,1, 7, 54, 403, 2980]\"\"\""
   ]
  },
  {
   "cell_type": "code",
   "execution_count": null,
   "metadata": {},
   "outputs": [],
   "source": [
    "def pwr_compl(eigv_time, sampling_rate_days, chosen_t):\n",
    "    full_time = pd.date_range(start='1/1/1979', end='1/1/2019', freq='6H')\n",
    "    full_df = pd.DataFrame(np.zeros((len(full_time), 10)))\n",
    "    full_df.index = full_time\n",
    "    full_df.columns = [str(i) for i in eigv_time.columns]\n",
    "    eigv_time.columns = [str(i) for i in eigv_time.columns]\n",
    "\n",
    "    cols_to_use = full_df.transpose().columns.difference(\n",
    "        eigv_time.transpose().columns)\n",
    "    full_df_time = pd.merge(left=full_df.transpose()[cols_to_use],\n",
    "                            right=eigv_time.transpose(),\n",
    "                            how='right',\n",
    "                            left_index=True,\n",
    "                            right_index=True,\n",
    "                            suffixes='_x').transpose()\n",
    "    full_df_time = full_df_time.sort_index()\n",
    "    f, Pxx_den = signal.periodogram(full_df_time['0'], sampling_rate_days)\n",
    "    fig, axs = plt.subplots(1, figsize=(10, 5))\n",
    "    axs.semilogy(np.log(1 / f), Pxx_den)\n",
    "    axs.axvline(np.log(year_t), color='r', linestyle=':', label='Every year')\n",
    "    axs.axvline(np.log(two_year_t),\n",
    "                color='g',\n",
    "                linestyle=':',\n",
    "                label='Twice per year')\n",
    "    axs.axvline(np.log(three_year_t),\n",
    "                color='orange',\n",
    "                linestyle=':',\n",
    "                label='Thrice per year')\n",
    "    axs.set_title(\"log(time [d])\")\n",
    "    axs.set_xticklabels(['0', '1', '7', '54', '403', '2980'])\n",
    "    axs.set_xlabel('Days')\n",
    "    plt.legend()\n",
    "    plt.savefig(f'images/power_spectrum/pwr_spectrum{round(chosen_t,5)}.png')"
   ]
  },
  {
   "cell_type": "code",
   "execution_count": null,
   "metadata": {
    "scrolled": false
   },
   "outputs": [],
   "source": [
    "pwr_compl(eigv_time2, sampling_rate_days, chosen_t)"
   ]
  },
  {
   "cell_type": "markdown",
   "metadata": {},
   "source": [
    "### Tasks: \n",
    "- First request a lot of eigenvectors and check that only one eigenvector that has eigenvalue close to zero (~$10^{-15}$) and might need to increase number of neighbours otherwise (check if graph is connected): **DONE FOR 50 EIGENVALUES, ONLY ONE ZERO**\n",
    "- Take the mean over all winters : **DONE**\n",
    "- Change to heat kernel and compute for different kernel values, and more than 10 eigenvectors. Plot also the eigenvalues. **DONE**\n",
    "- To choose t: look at distances and take mean or max of all distances among neighbours. Check if t is not the squared of distance. For large t we should have something close to what we have now. \n",
    "- Move to anomaly data\n",
    "- Power spectrum with missing data ? Compute power spectrum for other eigenvectors. So up to 7 months alright and then a gap and the rest should start at 360 and multiply by $365/(7x30)$ **DONE**"
   ]
  },
  {
   "cell_type": "markdown",
   "metadata": {},
   "source": [
    "#### Where we are going next: \n",
    "- anomaly data estimated seasonality from raw data. estimate smooth mean and remove it to obtain the anomaly. \n",
    "- switch from default weight to gaussian kernel, optimise bandwidth computational demanding, try multiple experiments, assess the best bandwidth also define what best means\n",
    "- apply also to anomaly data to see if consistent\n",
    "- include to the model so that it can capture the dynamics of system, those things are called backends embedding (use multiple time steps to represent one sample -> sequences) —> apply and optimite previous all to new representation of data \n",
    "\n",
    "Pic raw data so that the first mode of variability should be the seasonality \n",
    "capturing something, huge variability but don’t know what\n",
    "\n",
    "gaussian kernel approximates distance on manifold using this laplacian graph. The 0-1 weights is not very realistic because two samples that might be similar they might be different, For now they all have the sae weight. Not very good to approximate distances. For bandwidth t goes to 0 and a lot of data, converge to the distance on the manifold. \n"
   ]
  },
  {
   "cell_type": "code",
   "execution_count": null,
   "metadata": {},
   "outputs": [],
   "source": []
  },
  {
   "cell_type": "code",
   "execution_count": null,
   "metadata": {},
   "outputs": [],
   "source": []
  }
 ],
 "metadata": {
  "kernelspec": {
   "display_name": "Python 3",
   "language": "python",
   "name": "python3"
  },
  "language_info": {
   "codemirror_mode": {
    "name": "ipython",
    "version": 3
   },
   "file_extension": ".py",
   "mimetype": "text/x-python",
   "name": "python",
   "nbconvert_exporter": "python",
   "pygments_lexer": "ipython3",
   "version": "3.8.3"
  },
  "toc": {
   "base_numbering": 1,
   "nav_menu": {},
   "number_sections": true,
   "sideBar": true,
   "skip_h1_title": false,
   "title_cell": "Table of Contents",
   "title_sidebar": "Contents",
   "toc_cell": false,
   "toc_position": {
    "height": "calc(100% - 180px)",
    "left": "10px",
    "top": "150px",
    "width": "229.432px"
   },
   "toc_section_display": true,
   "toc_window_display": true
  },
  "varInspector": {
   "cols": {
    "lenName": 16,
    "lenType": 16,
    "lenVar": 40
   },
   "kernels_config": {
    "python": {
     "delete_cmd_postfix": "",
     "delete_cmd_prefix": "del ",
     "library": "var_list.py",
     "varRefreshCmd": "print(var_dic_list())"
    },
    "r": {
     "delete_cmd_postfix": ") ",
     "delete_cmd_prefix": "rm(",
     "library": "var_list.r",
     "varRefreshCmd": "cat(var_dic_list()) "
    }
   },
   "types_to_exclude": [
    "module",
    "function",
    "builtin_function_or_method",
    "instance",
    "_Feature"
   ],
   "window_display": false
  }
 },
 "nbformat": 4,
 "nbformat_minor": 4
}
